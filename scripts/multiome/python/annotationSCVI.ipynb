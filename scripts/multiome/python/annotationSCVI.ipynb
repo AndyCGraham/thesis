{
 "cells": [
  {
   "cell_type": "markdown",
   "metadata": {},
   "source": [
    "# Annotation"
   ]
  },
  {
   "cell_type": "markdown",
   "metadata": {},
   "source": [
    "## Environment setup"
   ]
  },
  {
   "cell_type": "markdown",
   "metadata": {},
   "source": [
    "We'll filter out some deprecation and performance warnings that do not affect our code:"
   ]
  },
  {
   "cell_type": "code",
   "execution_count": null,
   "metadata": {
    "ExecuteTime": {
     "end_time": "2024-04-05T10:44:03.465751493Z",
     "start_time": "2024-04-05T10:44:02.045860561Z"
    }
   },
   "outputs": [],
   "source": [
    "import os\n",
    "import re\n",
    "import warnings\n",
    "import numba\n",
    "import pandas as pd\n",
    "import scanpy as sc\n",
    "import anndata as ad\n",
    "import torch\n",
    "import h5py\n",
    "import scarches as sca\n",
    "import matplotlib.pyplot as plt\n",
    "import seaborn as sns\n",
    "import numpy as np\n",
    "import gdown\n",
    "\n",
    "from scipy.sparse import csr_matrix\n",
    "from scarches.dataset.trvae.data_handling import remove_sparsity\n",
    "\n",
    "# Check if current working directory is named \"python\" and change if needed\n",
    "current_dir = os.getcwd()\n",
    "if os.path.basename(current_dir) == \"python\":\n",
    "    os.chdir(\"../../../\")\n",
    "    print(f\"Changed working directory to: {os.getcwd()}\")\n",
    "else:\n",
    "    print(f\"Current working directory: {os.getcwd()}\")\n",
    "\n",
    "warnings.simplefilter(action='ignore', category=FutureWarning)\n",
    "warnings.simplefilter(action='ignore', category=UserWarning)\n",
    "from numba.core.errors import NumbaDeprecationWarning, NumbaPendingDeprecationWarning\n",
    "warnings.simplefilter(\"ignore\", category=NumbaDeprecationWarning)"
   ]
  },
  {
   "cell_type": "code",
   "execution_count": null,
   "metadata": {
    "ExecuteTime": {
     "end_time": "2024-04-05T10:45:11.647450918Z",
     "start_time": "2024-04-05T10:45:11.530388594Z"
    },
    "collapsed": false,
    "jupyter": {
     "outputs_hidden": false
    }
   },
   "outputs": [],
   "source": [
    "sc.settings.set_figure_params(dpi=200, frameon=False)\n",
    "sc.set_figure_params(dpi=200)\n",
    "sc.set_figure_params(figsize=(4, 4))\n",
    "torch.set_printoptions(precision=3, sci_mode=False, edgeitems=7)"
   ]
  },
  {
   "cell_type": "markdown",
   "metadata": {},
   "source": [
    "## Load data"
   ]
  },
  {
   "cell_type": "markdown",
   "metadata": {
    "collapsed": false,
    "jupyter": {
     "outputs_hidden": false
    }
   },
   "source": [
    "Load in allen brain atlas reference data"
   ]
  },
  {
   "cell_type": "code",
   "execution_count": null,
   "metadata": {
    "ExecuteTime": {
     "end_time": "2024-04-05T10:45:15.433462952Z",
     "start_time": "2024-04-05T10:45:15.431483147Z"
    },
    "collapsed": false,
    "jupyter": {
     "outputs_hidden": false
    }
   },
   "outputs": [],
   "source": [
    "f = h5py.File(\"data/resources/GSE185862_expression_matrix_10x.hdf5\", \"r\")\n",
    "for key in f.keys():\n",
    "    print(key) #Names of the root level object names in HDF5 file - can be groups or datasets.\n",
    "    print(type(f[key])) # get the object type: usually group or dataset"
   ]
  },
  {
   "cell_type": "code",
   "execution_count": null,
   "metadata": {
    "ExecuteTime": {
     "start_time": "2024-04-05T10:45:17.620420754Z"
    },
    "collapsed": false,
    "is_executing": true,
    "jupyter": {
     "outputs_hidden": false
    }
   },
   "outputs": [],
   "source": [
    "#Get the HDF5 group; key needs to be a group name from above\n",
    "group = f[key]\n",
    "\n",
    "#Checkout what keys are inside that group.\n",
    "for key in group.keys():\n",
    "    print(key)\n",
    "    \n",
    "source_adata = group[\"counts\"][()]\n",
    "genes = group[\"gene\"][()]\n",
    "cells = group[\"samples\"][()]\n",
    "\n",
    "#After you are done\n",
    "f.close()"
   ]
  },
  {
   "cell_type": "code",
   "execution_count": null,
   "metadata": {},
   "outputs": [],
   "source": [
    "source_adata = ad.AnnData(source_adata.T)\n",
    "source_adata.obs_names = cells.astype(\"str\")\n",
    "source_adata.var_names = genes.astype(\"str\")\n",
    "source_adata"
   ]
  },
  {
   "cell_type": "markdown",
   "metadata": {
    "collapsed": false,
    "jupyter": {
     "outputs_hidden": false
    }
   },
   "source": [
    "Load in metadata and match to expression matrix rows"
   ]
  },
  {
   "cell_type": "code",
   "execution_count": null,
   "metadata": {
    "ExecuteTime": {
     "end_time": "2023-11-27T16:10:45.986373559Z",
     "start_time": "2023-11-27T16:10:30.196860646Z"
    },
    "collapsed": false,
    "jupyter": {
     "outputs_hidden": false
    }
   },
   "outputs": [],
   "source": [
    "metadata = pd.read_csv(\"data/resources/GSE185862_metadata_10x.csv\")\n",
    "metadata = metadata.set_index(\"sample_name\")\n",
    "metadata.reindex(index=cells)\n",
    "metadata = metadata.reset_index()\n",
    "metadata = metadata.set_index(\"sample_name\")\n",
    "metadata"
   ]
  },
  {
   "cell_type": "markdown",
   "metadata": {},
   "source": [
    "Remove metadata cells not in the expression matrix, and visa versa"
   ]
  },
  {
   "cell_type": "code",
   "execution_count": null,
   "metadata": {},
   "outputs": [],
   "source": [
    "metadata = metadata[metadata.index.isin(source_adata.obs_names)]"
   ]
  },
  {
   "cell_type": "code",
   "execution_count": null,
   "metadata": {},
   "outputs": [],
   "source": [
    "source_adata = source_adata[source_adata.obs_names.isin(metadata.index)]\n",
    "source_adata"
   ]
  },
  {
   "cell_type": "markdown",
   "metadata": {},
   "source": [
    "Now lets make metadata columns match the cells in the expression matrix"
   ]
  },
  {
   "cell_type": "code",
   "execution_count": null,
   "metadata": {
    "ExecuteTime": {
     "end_time": "2023-11-27T16:16:58.024834395Z",
     "start_time": "2023-11-27T16:16:50.752549465Z"
    },
    "collapsed": false,
    "jupyter": {
     "outputs_hidden": false
    }
   },
   "outputs": [],
   "source": [
    "metadata = metadata.reindex(source_adata.obs_names)"
   ]
  },
  {
   "cell_type": "code",
   "execution_count": null,
   "metadata": {},
   "outputs": [],
   "source": [
    "metadata"
   ]
  },
  {
   "cell_type": "markdown",
   "metadata": {},
   "source": [
    "Now lets add this metadata to the anndata"
   ]
  },
  {
   "cell_type": "code",
   "execution_count": null,
   "metadata": {},
   "outputs": [],
   "source": [
    "source_adata.obs = metadata\n",
    "source_adata.obs"
   ]
  },
  {
   "cell_type": "markdown",
   "metadata": {},
   "source": [
    "Lets check some basic QC and filtering"
   ]
  },
  {
   "cell_type": "code",
   "execution_count": null,
   "metadata": {},
   "outputs": [],
   "source": [
    "sc.pp.filter_cells(source_adata, min_genes=100)\n",
    "sc.pp.filter_genes(source_adata, min_cells=100)"
   ]
  },
  {
   "cell_type": "code",
   "execution_count": null,
   "metadata": {
    "ExecuteTime": {
     "end_time": "2023-11-27T16:43:33.861746583Z",
     "start_time": "2023-11-27T16:43:33.466411696Z"
    },
    "collapsed": false,
    "jupyter": {
     "outputs_hidden": false
    }
   },
   "outputs": [],
   "source": [
    "# mitochondrial genes, \"MT-\" for human, \"Mt-\" for mouse\n",
    "source_adata.var[\"mt\"] = source_adata.var_names.str.startswith(\"mt-\")\n",
    "# ribosomal genes\n",
    "source_adata.var[\"ribo\"] = source_adata.var_names.str.startswith((\"Rps\", \"Rpl\"))\n",
    "# hemoglobin genes\n",
    "source_adata.var[\"hb\"] = source_adata.var_names.str.contains(\"^Hb[^(P)]\")\n",
    "\n",
    "sc.pp.calculate_qc_metrics(\n",
    "    source_adata, qc_vars=[\"mt\", \"ribo\", \"hb\"], inplace=True, log1p=True\n",
    ")"
   ]
  },
  {
   "cell_type": "code",
   "execution_count": null,
   "metadata": {
    "ExecuteTime": {
     "start_time": "2023-11-27T16:56:37.849469926Z"
    },
    "collapsed": false,
    "is_executing": true,
    "jupyter": {
     "outputs_hidden": false
    }
   },
   "outputs": [],
   "source": [
    "sc.pl.violin(\n",
    "    source_adata,\n",
    "    [\"n_genes_by_counts\", \"total_counts\", \"pct_counts_mt\"],\n",
    "    stripplot=False,\n",
    "    multi_panel=True,\n",
    ")"
   ]
  },
  {
   "cell_type": "code",
   "execution_count": null,
   "metadata": {
    "scrolled": true
   },
   "outputs": [],
   "source": [
    "sc.pl.scatter(source_adata, \"total_counts\", \"n_genes_by_counts\", color=\"pct_counts_mt\")"
   ]
  },
  {
   "cell_type": "markdown",
   "metadata": {},
   "source": [
    "## Find Variable Genes"
   ]
  },
  {
   "cell_type": "code",
   "execution_count": null,
   "metadata": {},
   "outputs": [],
   "source": [
    "source_adata.layers[\"counts\"] = source_adata.X.copy()"
   ]
  },
  {
   "cell_type": "code",
   "execution_count": null,
   "metadata": {},
   "outputs": [],
   "source": [
    "# Normalizing to median total counts\n",
    "sc.pp.normalize_total(source_adata)\n",
    "# Logarithmize the data\n",
    "sc.pp.log1p(source_adata)\n",
    "sc.pp.highly_variable_genes(source_adata, n_top_genes=3000)"
   ]
  },
  {
   "cell_type": "markdown",
   "metadata": {},
   "source": [
    "Subset to HVGs"
   ]
  },
  {
   "cell_type": "code",
   "execution_count": null,
   "metadata": {},
   "outputs": [],
   "source": [
    "source_adata = source_adata[:,source_adata.var.highly_variable].copy()"
   ]
  },
  {
   "cell_type": "markdown",
   "metadata": {},
   "source": [
    "Revert to raw counts"
   ]
  },
  {
   "cell_type": "code",
   "execution_count": null,
   "metadata": {},
   "outputs": [],
   "source": [
    "source_adata.X = source_adata.layers[\"counts\"]\n",
    "del source_adata.layers[\"counts\"]"
   ]
  },
  {
   "cell_type": "markdown",
   "metadata": {},
   "source": [
    "Now lets make a cell type column to transfer the annotations"
   ]
  },
  {
   "cell_type": "code",
   "execution_count": null,
   "metadata": {},
   "outputs": [],
   "source": [
    "source_adata.obs[\"cell_type\"] = source_adata.obs.cluster_label.str.extract(r'[^_]*_(.*)')"
   ]
  },
  {
   "cell_type": "code",
   "execution_count": null,
   "metadata": {},
   "outputs": [],
   "source": [
    "source_adata.write_h5ad(\"data/resources/source_adata.h5ad\")"
   ]
  },
  {
   "cell_type": "markdown",
   "metadata": {
    "collapsed": false,
    "jupyter": {
     "outputs_hidden": false
    }
   },
   "source": [
    "## Create scVI model and train it on reference dataset"
   ]
  },
  {
   "cell_type": "markdown",
   "metadata": {
    "collapsed": false,
    "jupyter": {
     "outputs_hidden": false
    }
   },
   "source": [
    "Set settings"
   ]
  },
  {
   "cell_type": "code",
   "execution_count": null,
   "metadata": {
    "ExecuteTime": {
     "end_time": "2023-11-27T12:18:41.023362811Z",
     "start_time": "2023-11-27T12:18:40.659085432Z"
    },
    "collapsed": false,
    "jupyter": {
     "outputs_hidden": false
    }
   },
   "outputs": [],
   "source": [
    "source_adata.obs[\"batch\"] = 1\n",
    "sca.models.SCVI.setup_anndata(source_adata, batch_key=\"batch\")"
   ]
  },
  {
   "cell_type": "markdown",
   "metadata": {
    "collapsed": false,
    "jupyter": {
     "outputs_hidden": false
    }
   },
   "source": [
    "Create the scVI model instance with NB loss as default. Insert “recon_loss=’mse’,” or “recon_loss=’zinb’,” to change the reconstruction loss"
   ]
  },
  {
   "cell_type": "code",
   "execution_count": null,
   "metadata": {
    "ExecuteTime": {
     "end_time": "2023-11-27T12:18:48.641657327Z",
     "start_time": "2023-11-27T12:18:47.006829192Z"
    },
    "collapsed": false,
    "jupyter": {
     "outputs_hidden": false
    }
   },
   "outputs": [],
   "source": [
    "vae = sca.models.SCVI(\n",
    "    source_adata,\n",
    "    n_layers=2,\n",
    "    encode_covariates=True,\n",
    "    deeply_inject_covariates=False,\n",
    "    use_layer_norm=\"both\",\n",
    "    use_batch_norm=\"none\",\n",
    ")"
   ]
  },
  {
   "cell_type": "markdown",
   "metadata": {},
   "source": [
    "Train"
   ]
  },
  {
   "cell_type": "code",
   "execution_count": null,
   "metadata": {},
   "outputs": [],
   "source": [
    "vae.train()"
   ]
  },
  {
   "cell_type": "markdown",
   "metadata": {},
   "source": [
    "Lets get the reference latent embedding for later"
   ]
  },
  {
   "cell_type": "code",
   "execution_count": null,
   "metadata": {},
   "outputs": [],
   "source": [
    "ref_emb = sc.AnnData(X=vae.get_latent_representation(), obs=source_adata.obs)\n",
    "ref_emb.obs[\"reference_or_query\"] = \"reference\""
   ]
  },
  {
   "cell_type": "code",
   "execution_count": null,
   "metadata": {},
   "outputs": [],
   "source": [
    "ref_path=\"analysis/refscVI\"\n",
    "vae.save(ref_path, overwrite=True)"
   ]
  },
  {
   "cell_type": "markdown",
   "metadata": {},
   "source": [
    "Let's read in the data pre-processed in R"
   ]
  },
  {
   "cell_type": "markdown",
   "metadata": {},
   "source": [
    "## Automated annotation"
   ]
  },
  {
   "cell_type": "markdown",
   "metadata": {},
   "source": [
    "### Annotation by mapping to a reference"
   ]
  },
  {
   "cell_type": "markdown",
   "metadata": {},
   "source": [
    "scArches, which we will for reference-mapping-based label transfer, takes as its basis an existing (variational autoencoder-based) model that embeds the reference data in a low-dimensional, batch-corrected space. It then slightly extends that model to enable the mapping of an unseen dataset into the same \"latent space\" (i.e. the low-dimensional embedding). This model extension also enables the learning and removal of batch effects present in the mapped dataset."
   ]
  },
  {
   "cell_type": "markdown",
   "metadata": {},
   "source": [
    "Let's start by preparing our data for the mapping to a reference. scArches, the method that enables us to adapt an existing reference model to new data requires raw, non-normalized counts. We will therefore keep our counts layer and remove all other layers from our adata to map. We will set our .X to those raw counts as well."
   ]
  },
  {
   "cell_type": "code",
   "execution_count": null,
   "metadata": {},
   "outputs": [],
   "source": [
    "source_adata = sc.read_h5ad(\"data/resources/source_adata.h5ad\")"
   ]
  },
  {
   "cell_type": "code",
   "execution_count": null,
   "metadata": {},
   "outputs": [],
   "source": [
    "ref_path=\"analysis/refscVI\""
   ]
  },
  {
   "cell_type": "code",
   "execution_count": null,
   "metadata": {},
   "outputs": [],
   "source": [
    "adata = sc.read_h5ad(\"data/cellAnnotation/Multiome.h5ad\")"
   ]
  },
  {
   "cell_type": "code",
   "execution_count": null,
   "metadata": {},
   "outputs": [],
   "source": [
    "adata_to_map = adata.copy()\n",
    "for layer in list(adata_to_map.layers.keys()):\n",
    "    if layer != \"counts\":\n",
    "        del adata_to_map.layers[layer]"
   ]
  },
  {
   "cell_type": "markdown",
   "metadata": {},
   "source": [
    "Lets see if we are missing any needed genes in the query dataset"
   ]
  },
  {
   "cell_type": "code",
   "execution_count": null,
   "metadata": {},
   "outputs": [],
   "source": [
    "print(\n",
    "    \"Percent of needed genes found in query dataset:\",\n",
    "    100*(adata_to_map.var_names.isin(source_adata.var_names).sum()/len(source_adata.var_names)),\n",
    ")"
   ]
  },
  {
   "cell_type": "markdown",
   "metadata": {},
   "source": [
    "Lets add rows of 0s for the missing genes"
   ]
  },
  {
   "cell_type": "code",
   "execution_count": null,
   "metadata": {},
   "outputs": [],
   "source": [
    "missing_genes = [\n",
    "    gene\n",
    "    for gene in source_adata.var_names\n",
    "    if gene not in adata_to_map.var_names\n",
    "]"
   ]
  },
  {
   "cell_type": "code",
   "execution_count": null,
   "metadata": {},
   "outputs": [],
   "source": [
    "missing_gene_adata = sc.AnnData(\n",
    "    X=csr_matrix(np.zeros(shape=(adata.n_obs, len(missing_genes))), dtype=\"float32\"),\n",
    "    obs=adata.obs.iloc[:, :],\n",
    ")\n",
    "missing_gene_adata.var.index = missing_genes"
   ]
  },
  {
   "cell_type": "markdown",
   "metadata": {},
   "source": [
    "Concatenate our original adata to the missing genes adata. To make sure we can do this concatenation without errors, we’ll remove the PCA matrix from varm."
   ]
  },
  {
   "cell_type": "code",
   "execution_count": null,
   "metadata": {},
   "outputs": [],
   "source": [
    "if \"PCs\" in adata_to_map.varm.keys():\n",
    "    del adata_to_map.varm[\"PCs\"]"
   ]
  },
  {
   "cell_type": "code",
   "execution_count": null,
   "metadata": {},
   "outputs": [],
   "source": [
    "adata_to_map = sc.concat(\n",
    "    [adata_to_map, missing_gene_adata],\n",
    "    axis=1,\n",
    "    join=\"outer\",\n",
    "    index_unique=None,\n",
    "    merge=\"unique\",\n",
    ")"
   ]
  },
  {
   "cell_type": "code",
   "execution_count": null,
   "metadata": {},
   "outputs": [],
   "source": [
    "print(\n",
    "    \"Percent of needed genes found in query dataset:\",\n",
    "    100*(adata_to_map.var_names.isin(source_adata.var_names).sum()/len(source_adata.var_names)),\n",
    ")"
   ]
  },
  {
   "cell_type": "code",
   "execution_count": null,
   "metadata": {},
   "outputs": [],
   "source": [
    "adata_to_map = adata_to_map[\n",
    "    :, source_adata.var_names\n",
    "].copy()"
   ]
  },
  {
   "cell_type": "markdown",
   "metadata": {},
   "source": [
    "Check genes match"
   ]
  },
  {
   "cell_type": "code",
   "execution_count": null,
   "metadata": {},
   "outputs": [],
   "source": [
    "(adata_to_map.var.index == source_adata.var.index).all()"
   ]
  },
  {
   "cell_type": "code",
   "execution_count": null,
   "metadata": {},
   "outputs": [],
   "source": [
    "# Remove source adata as we no longer need it\n",
    "del source_adata"
   ]
  },
  {
   "cell_type": "markdown",
   "metadata": {},
   "source": [
    "Add a dummy constant batch column (just need a column)"
   ]
  },
  {
   "cell_type": "code",
   "execution_count": null,
   "metadata": {},
   "outputs": [],
   "source": [
    "adata_to_map.obs[\"batch\"] = 2"
   ]
  },
  {
   "cell_type": "code",
   "execution_count": null,
   "metadata": {},
   "outputs": [],
   "source": [
    "new_vae = sca.models.SCVI.load_query_data(\n",
    "    adata=adata_to_map,\n",
    "    reference_model=ref_path,\n",
    "    freeze_dropout=True,\n",
    ")"
   ]
  },
  {
   "cell_type": "markdown",
   "metadata": {},
   "source": [
    "We will now update this reference model so that we can embed our own data (the \"query\") in the same latent space as the reference. This requires training on our query data using scArches:"
   ]
  },
  {
   "cell_type": "code",
   "execution_count": null,
   "metadata": {},
   "outputs": [],
   "source": [
    "new_vae.train(max_epochs=500, plan_kwargs=dict(weight_decay=0.0))"
   ]
  },
  {
   "cell_type": "markdown",
   "metadata": {},
   "source": [
    "Now that we have updated the model, we can calculate the (ideally batch-corrected) latent representation of our query:"
   ]
  },
  {
   "cell_type": "code",
   "execution_count": null,
   "metadata": {},
   "outputs": [],
   "source": [
    "adata.obsm[\"scVI\"] = new_vae.get_latent_representation()"
   ]
  },
  {
   "cell_type": "markdown",
   "metadata": {},
   "source": [
    "We can now use this newly calculated low-dimensional embedding as a basis for visualization and clustering. Let's calculate the new UMAP using the scVI-based representation of the data."
   ]
  },
  {
   "cell_type": "code",
   "execution_count": null,
   "metadata": {},
   "outputs": [],
   "source": [
    "sc.pp.neighbors(adata, use_rep=\"scVI\")\n",
    "sc.tl.umap(adata)"
   ]
  },
  {
   "cell_type": "markdown",
   "metadata": {},
   "source": [
    "To see if the mapping-based UMAP makes general sense, let's look at a few markers and if their expression is localized to specific parts of the UMAP:"
   ]
  },
  {
   "cell_type": "code",
   "execution_count": null,
   "metadata": {},
   "outputs": [],
   "source": [
    "sc.pl.umap(\n",
    "    adata,\n",
    "    color=[\"Cx3cr1\", \"Slc17a5\", \"Mbp\"],\n",
    "    vmin=0,\n",
    "    vmax=\"p99\",  # set vmax to the 99th percentile of the gene count instead of the maximum, to prevent outliers from making expression in other cells invisible. Note that this can cause problems for extremely lowly expressed genes.\n",
    "    sort_order=False,  # do not plot highest expression on top, to not get a biased view of the mean expression among cells\n",
    "    frameon=False,\n",
    "    cmap=\"Reds\",  # or choose another color map e.g. from here: https://matplotlib.org/stable/tutorials/colors/colormaps.html\n",
    ")"
   ]
  },
  {
   "cell_type": "markdown",
   "metadata": {},
   "source": [
    "Now the essential step is that we can combine the inferred latent space embedding of our query data with the existing reference embedding. Using this joint embedding, we will not only be able to e.g. visualize and cluster the two together, but we can also do label transfer from the query to the reference.<br> \n",
    "Let's load the reference embedding: this is often made publicly available with existing atlases."
   ]
  },
  {
   "cell_type": "markdown",
   "metadata": {},
   "source": [
    "To perform the label transfer, we will first concatenate the reference and query data using the 10-dimensional embedding. To get there, we will create the same type of AnnData object from our query data as we have from the reference (with the embedding under `.X`) and concatenate the two. With that, we can jointly analyze reference and query including doing transfer from one to the other."
   ]
  },
  {
   "cell_type": "code",
   "execution_count": null,
   "metadata": {},
   "outputs": [],
   "source": [
    "adata_emb = sc.AnnData(X=adata.obsm[\"scVI\"], obs=adata.obs)"
   ]
  },
  {
   "cell_type": "code",
   "execution_count": null,
   "metadata": {},
   "outputs": [],
   "source": [
    "adata_emb.obs[\"reference_or_query\"] = \"query\""
   ]
  },
  {
   "cell_type": "code",
   "execution_count": null,
   "metadata": {},
   "outputs": [],
   "source": [
    "emb_ref_query = sc.concat(\n",
    "    [ref_emb, adata_emb],\n",
    "    axis=0,\n",
    "    join=\"outer\",\n",
    "    index_unique=None,\n",
    "    merge=\"unique\",\n",
    ")"
   ]
  },
  {
   "cell_type": "markdown",
   "metadata": {},
   "source": [
    "Let's visualize the joint embedding with a UMAP."
   ]
  },
  {
   "cell_type": "code",
   "execution_count": null,
   "metadata": {},
   "outputs": [],
   "source": [
    "sc.pp.neighbors(emb_ref_query)\n",
    "sc.tl.umap(emb_ref_query)"
   ]
  },
  {
   "cell_type": "markdown",
   "metadata": {},
   "source": [
    "We can visually get a first impression of whether the reference and query integrated well based on the UMAP:"
   ]
  },
  {
   "cell_type": "code",
   "execution_count": null,
   "metadata": {},
   "outputs": [],
   "source": [
    "sc.pl.umap(\n",
    "    emb_ref_query,\n",
    "    color=[\"reference_or_query\"],\n",
    "    sort_order=False,\n",
    "    frameon=False,\n",
    ")"
   ]
  },
  {
   "cell_type": "markdown",
   "metadata": {},
   "source": [
    "The (partial) mixing of query and reference in this UMAP is a good sign! When mapping completely fails, you will often see a full separation of query and reference in the UMAP."
   ]
  },
  {
   "cell_type": "markdown",
   "metadata": {},
   "source": [
    "Now let's look at the cell type annotations from the reference. All cells from the query are set to NA here as they don't have annotations yet and shown in black."
   ]
  },
  {
   "cell_type": "markdown",
   "metadata": {},
   "source": [
    "We'll make this figure a bit bigger so that we can read the legend well:"
   ]
  },
  {
   "cell_type": "code",
   "execution_count": null,
   "metadata": {},
   "outputs": [],
   "source": [
    "sc.set_figure_params(figsize=(10, 10))"
   ]
  },
  {
   "cell_type": "code",
   "execution_count": null,
   "metadata": {},
   "outputs": [],
   "source": [
    "sc.pl.umap(\n",
    "    emb_ref_query,\n",
    "    color=[\"cell_type\"],\n",
    "    sort_order=False,\n",
    "    frameon=False,\n",
    "    legend_loc=\"on data\",\n",
    "    legend_fontsize=10,\n",
    "    na_color=\"black\",\n",
    ")"
   ]
  },
  {
   "cell_type": "markdown",
   "metadata": {},
   "source": [
    "As you can already tell from the UMAP, we can guess the cell type of each of our own cells (in black) by looking at which cell types from the reference surround it. This is exactly what a nearest-neighbor-graph-based label transfer approach does: for each query cell it checks what is the most common cell type among its neighboring reference cells. The higher the fraction of reference cells coming from a single cell type, the more confident the label transfer is."
   ]
  },
  {
   "cell_type": "markdown",
   "metadata": {},
   "source": [
    "Let's perform the KNN-based label transfer. "
   ]
  },
  {
   "cell_type": "markdown",
   "metadata": {},
   "source": [
    "First we set up the label transfer model:"
   ]
  },
  {
   "cell_type": "code",
   "execution_count": null,
   "metadata": {},
   "outputs": [],
   "source": [
    "knn_transformer = sca.utils.knn.weighted_knn_trainer(\n",
    "    train_adata=ref_emb,\n",
    "    train_adata_emb=\"X\",  # location of our joint embedding\n",
    "    n_neighbors=15,\n",
    ")"
   ]
  },
  {
   "cell_type": "markdown",
   "metadata": {},
   "source": [
    "Now we perform the label transfer:"
   ]
  },
  {
   "cell_type": "code",
   "execution_count": null,
   "metadata": {},
   "outputs": [],
   "source": [
    "labels, uncert = sca.utils.knn.weighted_knn_transfer(\n",
    "    query_adata=adata_emb,\n",
    "    query_adata_emb=\"X\",  # location of our embedding, query_adata.X in this case\n",
    "    label_keys=\"cell_type\",  # (start of) obs column name(s) for which to transfer labels\n",
    "    knn_model=knn_transformer,\n",
    "    ref_adata_obs=ref_emb.obs,\n",
    ")"
   ]
  },
  {
   "cell_type": "markdown",
   "metadata": {},
   "source": [
    "And store the results in our adata:"
   ]
  },
  {
   "cell_type": "code",
   "execution_count": null,
   "metadata": {},
   "outputs": [],
   "source": [
    "adata_emb.obs[\"transf_cell_type\"] = labels.loc[adata_emb.obs.index, \"cell_type\"]\n",
    "adata_emb.obs[\"transf_cell_type_unc\"] = uncert.loc[adata_emb.obs.index, \"cell_type\"]"
   ]
  },
  {
   "cell_type": "markdown",
   "metadata": {},
   "source": [
    "Let's transfer the results to our query adata object which also has our UMAP and gene counts, so that we can visualize all of those together."
   ]
  },
  {
   "cell_type": "code",
   "execution_count": null,
   "metadata": {},
   "outputs": [],
   "source": [
    "adata.obs.loc[adata_emb.obs.index, \"transf_cell_type\"] = adata_emb.obs[\n",
    "    \"transf_cell_type\"\n",
    "]\n",
    "adata.obs.loc[adata_emb.obs.index, \"transf_cell_type_unc\"] = adata_emb.obs[\n",
    "    \"transf_cell_type_unc\"\n",
    "]"
   ]
  },
  {
   "cell_type": "markdown",
   "metadata": {},
   "source": [
    "We can now visualize the transferred labels in our previously calculated UMAP of our own data:"
   ]
  },
  {
   "cell_type": "markdown",
   "metadata": {},
   "source": [
    "Let's set the figure size smaller again:"
   ]
  },
  {
   "cell_type": "code",
   "execution_count": null,
   "metadata": {},
   "outputs": [],
   "source": [
    "sc.set_figure_params(figsize=(15, 15))"
   ]
  },
  {
   "cell_type": "code",
   "execution_count": null,
   "metadata": {},
   "outputs": [],
   "source": [
    "sc.pl.umap(adata, color=\"transf_cell_type\", frameon=False, legend_loc=\"on data\")"
   ]
  },
  {
   "cell_type": "markdown",
   "metadata": {},
   "source": [
    "Based on the neighbors of each of our query cells we can not only guess the cell type these cells belong to, but also generate a measure for certainty of that label: if a cell has neighbors from several different cell types, our guess will be highly uncertain. This is relevant to assess to what extent we can \"trust\" the transferred labels! Let's visualize the uncertainty scores:"
   ]
  },
  {
   "cell_type": "code",
   "execution_count": null,
   "metadata": {},
   "outputs": [],
   "source": [
    "sc.pl.umap(adata, color=\"transf_cell_type_unc\", frameon=False)"
   ]
  },
  {
   "cell_type": "markdown",
   "metadata": {},
   "source": [
    "Let's check for each cell type label how high the label transfer uncertainty levels were. This gives us a first impression of which annotations are more contentious/need more manual checks."
   ]
  },
  {
   "cell_type": "code",
   "execution_count": null,
   "metadata": {},
   "outputs": [],
   "source": [
    "fig, ax = plt.subplots(figsize=(15, 7))\n",
    "ct_order = (\n",
    "    adata.obs.groupby(\"transf_cell_type\")\n",
    "    .agg({\"transf_cell_type_unc\": \"median\"})\n",
    "    .sort_values(by=\"transf_cell_type_unc\", ascending=False)\n",
    ")\n",
    "sns.boxplot(\n",
    "    adata.obs,\n",
    "    x=\"transf_cell_type\",\n",
    "    y=\"transf_cell_type_unc\",\n",
    "    color=\"grey\",\n",
    "    ax=ax,\n",
    "    order=ct_order.index,\n",
    ")\n",
    "ax.tick_params(rotation=90, axis=\"x\")"
   ]
  },
  {
   "cell_type": "markdown",
   "metadata": {},
   "source": [
    "##### You'll notice that e.g. progenitor cells are often more difficult to distinguish than other cell types. Same for the rather unspecific category \"Other T\" cells in our annotations. All the way on the right we see pDCs, a cell type that is known to be quite transcriptionally distinct and therefore easier to recognize and label."
   ]
  },
  {
   "cell_type": "markdown",
   "metadata": {},
   "source": [
    "##### To incorporate this uncertainty information in our transferred labels, we can set cells with an uncertainty score above e.g. 0.2 to \"unknown\":"
   ]
  },
  {
   "cell_type": "code",
   "execution_count": null,
   "metadata": {},
   "outputs": [],
   "source": [
    "adata.obs[\"transf_cell_type_certain\"] = adata.obs.transf_cell_type.tolist()\n",
    "adata.obs.loc[\n",
    "    adata.obs.transf_cell_type_unc > 0.2, \"transf_cell_type_certain\"\n",
    "] = \"Unknown\""
   ]
  },
  {
   "cell_type": "markdown",
   "metadata": {},
   "source": [
    "Let's see what our annotations look like after this filtering. Note the Unknown color in the legend and the UMAP."
   ]
  },
  {
   "cell_type": "code",
   "execution_count": null,
   "metadata": {},
   "outputs": [],
   "source": [
    "sc.pl.umap(adata, color=\"transf_cell_type_certain\", frameon=False)"
   ]
  },
  {
   "cell_type": "markdown",
   "metadata": {},
   "source": [
    "To ease legibility, we can color *only* the \"unknown\" cells. This will make it easier for us to see how many of those there are. You can do the same with any of the other cell type labels."
   ]
  },
  {
   "cell_type": "code",
   "execution_count": null,
   "metadata": {},
   "outputs": [],
   "source": [
    "sc.pl.umap(adata, color=\"transf_cell_type_certain\", groups=\"Unknown\")"
   ]
  },
  {
   "cell_type": "markdown",
   "metadata": {},
   "source": [
    "There are quite many of them! These cells will need particularly careful manual reviewing. However, the low-uncertainty annotations surrounding the \"unknown cells\" will already give us a first idea of what cell type we can expect each cell to belong to."
   ]
  },
  {
   "cell_type": "markdown",
   "metadata": {},
   "source": [
    "Finally, store your adata object:"
   ]
  },
  {
   "cell_type": "code",
   "execution_count": null,
   "metadata": {},
   "outputs": [],
   "source": [
    "adata.obs[\"transf_cell_type_unc\"] = adata.obs[\"transf_cell_type_unc\"].astype(\"float\")"
   ]
  },
  {
   "cell_type": "code",
   "execution_count": null,
   "metadata": {},
   "outputs": [],
   "source": [
    "adata.write(\"data/cellAnnotation/MultiomeAnnotated.h5ad\")\n",
    "adata.obs.to_csv(\"data/cellAnnotation/MultiomeMetadataAnnotated.csv\")"
   ]
  }
 ],
 "metadata": {
  "kernelspec": {
   "display_name": "Python 3 (ipykernel)",
   "language": "python",
   "name": "python3"
  },
  "language_info": {
   "codemirror_mode": {
    "name": "ipython",
    "version": 3
   },
   "file_extension": ".py",
   "mimetype": "text/x-python",
   "name": "python",
   "nbconvert_exporter": "python",
   "pygments_lexer": "ipython3",
   "version": "3.10.13"
  }
 },
 "nbformat": 4,
 "nbformat_minor": 4
}
