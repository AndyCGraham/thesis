{
 "cells": [
  {
   "cell_type": "markdown",
   "metadata": {},
   "source": [
    "# Context specific (static) gene regulatory network (GRN) analysis\n",
    "\n",
    "This notebooks performs analysis of the context specific GRNs we made with dictys. \n",
    "\n",
    "## Load GRNs"
   ]
  },
  {
   "cell_type": "code",
   "execution_count": null,
   "metadata": {
    "is_executing": true
   },
   "outputs": [],
   "source": [
    "# Removes CPU usage limit by some jupyter versions\n",
    "import os\n",
    "import numpy as np\n",
    "\n",
    "# Plotting\n",
    "import matplotlib.pyplot as plt\n",
    "\n",
    "# Dictys\n",
    "from dictys.net import network\n",
    "from dictys.plot.static import compute_spec,fig_heatmap_top,fig_subnet\n",
    "from dictys.plot import dotplot\n",
    "\n",
    "\n",
    "os.environ['KMP_AFFINITY'] = ''\n",
    "\n",
    "work_dir = '../../data/dictys/ExNeu/'\n",
    "os.makedirs(work_dir, exist_ok=True)\n",
    "d0=network.from_file(f'{work_dir}/results/static.h5')"
   ]
  },
  {
   "cell_type": "markdown",
   "metadata": {},
   "source": [
    "## Regulation marker discovery based on target count & specificity between cell subsets\n",
    "This analysis uses the reconstructed contest specific GRNs to find marker TFs based on their regulatory activity. These *regulation marker TFs* can provide information to annotate each cell subset and indicate the function of these regulation markers.\n",
    "\n",
    "### Plot TF GRN activity by broad cluster"
   ]
  },
  {
   "cell_type": "code",
   "execution_count": null,
   "metadata": {},
   "outputs": [],
   "source": [
    "#Regulation markers based on TF regulatory activity (by target count) and its specificity\n",
    "#Color map of specificity\n",
    "cmap='spring_r'\n",
    "#Node sizes to draw legend in dot plot\n",
    "node_size_deg=[20,100,200,500]\n",
    "#Transformation from target count to node size\n",
    "node_size_map_deg=lambda x:x*(x<=10)+(10+(x-10)*500/10/490)*(x>10)\n",
    "\n",
    "#Find marker genes based on regulatory activity specificity\n",
    "#Arguments control how many top markers to show and the cutoffs for target count, its specificity at the most abundant cell subset, and its entropy over all cell subsets\n",
    "deg,deg_spec,cpm,cpm_spec,regmarker,regmarker_state=compute_spec(d0,nmax=15,vmin=10,ncut=0.3,min_entropy=0.7)\n",
    "#Draw dot plot with regulatory activity and its specificity\n",
    "fig,ax=dotplot(deg.loc[regmarker].iloc[::-1],deg_spec.loc[regmarker].iloc[::-1],size_transform=node_size_map_deg,sizes=np.array(node_size_deg),cmap=cmap)\n"
   ]
  },
  {
   "cell_type": "markdown",
   "metadata": {},
   "source": [
    "## Heatmap of top target genes of select TFs in their corresponding cell types\n"
   ]
  },
  {
   "cell_type": "code",
   "execution_count": null,
   "metadata": {},
   "outputs": [],
   "source": [
    "#TF-cell type pairs selected from the last step\n",
    "tf=[('Fos','CA1'), ('Fos','CA2_3'), ('Fos','DG'),\n",
    "    ('Junb','CA1'), ('Junb','CA2_3'), ('Junb','DG'),\n",
    "   ('Nr4a1','CA1'), ('Nr4a1','CA2_3'), ('Nr4a1','DG'),\n",
    "   ]\n",
    "#Number of top targets for each TF\n",
    "ntop=20\n",
    "#Searching for top activated target genes only\n",
    "direction=1\n",
    "\n",
    "fig,fig_colorbar,net=fig_heatmap_top(d0,tf,ntop=ntop,direction=direction,aspect=1,gann='all')\n"
   ]
  },
  {
   "cell_type": "markdown",
   "metadata": {},
   "source": [
    "## Draw target gene subnetwork from a TF\n",
    "We can further zoom in to a particular TF in the relevant context and look at its targets.\n",
    "\n",
    "### Example 1: Fos in CA1\n",
    "As before, we first draw a large figure and annotate all genes to determine which we ultimately need."
   ]
  },
  {
   "cell_type": "code",
   "execution_count": null,
   "metadata": {},
   "outputs": [],
   "source": [
    "fig=plt.figure(figsize=(12,12))\n",
    "ax=fig.add_subplot(111)\n",
    "nodes,edges=fig_subnet(d0,ax,'CA1',regulators=['Fos'],annotate='all', sparsity=0.001)"
   ]
  },
  {
   "cell_type": "markdown",
   "metadata": {},
   "source": [
    "The data matrices include node locations and edge strengths."
   ]
  },
  {
   "cell_type": "code",
   "execution_count": null,
   "metadata": {},
   "outputs": [],
   "source": [
    "nodes.head()"
   ]
  },
  {
   "cell_type": "code",
   "execution_count": null,
   "metadata": {},
   "outputs": [],
   "source": [
    "edges.sort_values(\"Strength\", ascending = False)"
   ]
  },
  {
   "cell_type": "markdown",
   "metadata": {},
   "source": [
    "You can also draw the upstream regulators of FOS by constraining the target genes."
   ]
  },
  {
   "cell_type": "code",
   "execution_count": null,
   "metadata": {},
   "outputs": [],
   "source": [
    "fig=plt.figure()\n",
    "ax=fig.add_subplot(111)\n",
    "nodes,edges=fig_subnet(d0,ax,'CA1',targets=['Fos'],annotate='all')\n"
   ]
  },
  {
   "cell_type": "markdown",
   "metadata": {},
   "source": [
    "### Example 2: Fos in DentateGyrus"
   ]
  },
  {
   "cell_type": "code",
   "execution_count": null,
   "metadata": {},
   "outputs": [],
   "source": [
    "fig=plt.figure(figsize=(12,12))\n",
    "ax=fig.add_subplot(111)\n",
    "nodes,edges=fig_subnet(d0,ax,'DG',regulators=['Fos'],annotate='all', sparsity=0.01)\n"
   ]
  },
  {
   "cell_type": "code",
   "execution_count": null,
   "metadata": {},
   "outputs": [],
   "source": [
    "edges.sort_values(\"Strength\", ascending = False)"
   ]
  },
  {
   "cell_type": "markdown",
   "metadata": {},
   "source": [
    "## Exporting networks to folder\n",
    "You can export all context specific networks to tsv files for custom analyses."
   ]
  },
  {
   "cell_type": "code",
   "execution_count": null,
   "metadata": {},
   "outputs": [],
   "source": [
    "#Folder to export networks to\n",
    "output_folder='../../results/dictys/ExNeu/'\n",
    "#Choose which sparsities (proportion of edges present) to export network\n",
    "#Use None to export continuous network\n",
    "sparsities=[None,0.01, 0.005]\n",
    "d0.export(output_folder,sparsities=sparsities)\n"
   ]
  },
  {
   "cell_type": "markdown",
   "metadata": {},
   "source": [
    "The export folder is structured as below."
   ]
  },
  {
   "cell_type": "code",
   "execution_count": null,
   "metadata": {},
   "outputs": [],
   "source": [
    "!ls ../../results/dictys/ExNeu/"
   ]
  },
  {
   "cell_type": "code",
   "execution_count": null,
   "metadata": {},
   "outputs": [],
   "source": [
    "!ls ../../results/dictys/ExNeu/sparsity=0.01"
   ]
  }
 ],
 "metadata": {
  "kernelspec": {
   "display_name": "Python 3 (ipykernel)",
   "language": "python",
   "name": "python3"
  },
  "language_info": {
   "codemirror_mode": {
    "name": "ipython",
    "version": 3
   },
   "file_extension": ".py",
   "mimetype": "text/x-python",
   "name": "python",
   "nbconvert_exporter": "python",
   "pygments_lexer": "ipython3",
   "version": "3.9.18"
  }
 },
 "nbformat": 4,
 "nbformat_minor": 4
}
