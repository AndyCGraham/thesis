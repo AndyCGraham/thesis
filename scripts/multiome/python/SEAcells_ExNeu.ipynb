{
 "cells": [
  {
   "cell_type": "markdown",
   "metadata": {},
   "source": [
    "\n",
    "# 10x Multiome Hippocampus SEAcells Computation"
   ]
  },
  {
   "cell_type": "markdown",
   "metadata": {},
   "source": [
    "## Set-up environment and download data \n",
    "We will first create a directory to store the data and results"
   ]
  },
  {
   "cell_type": "code",
   "execution_count": null,
   "metadata": {},
   "outputs": [],
   "source": [
    "#supress warnings\n",
    "import warnings\n",
    "import sys\n",
    "import os\n",
    "import re\n",
    "import os\n",
    "from os import listdir\n",
    "import json\n",
    "import pickle\n",
    "import dill\n",
    "import random\n",
    "from typing import Union, Dict, Sequence, Optional, List\n",
    "warnings.simplefilter(action='ignore', category=FutureWarning)\n",
    "warnings.filterwarnings(\"ignore\")\n",
    "\n",
    "import pandas as pd\n",
    "import numpy as np\n",
    "\n",
    "os.environ[\"MODIN_ENGINE\"] = \"ray\"\n",
    "import ray\n",
    "\n",
    "# Plotting\n",
    "import matplotlib.pyplot as plt\n",
    "import seaborn as sns\n",
    "\n",
    "# SEAcells\n",
    "import scanpy as sc\n",
    "import SEACells\n",
    "\n",
    "#set some figure parameters for nice display inside jupyternotebooks.\n",
    "sc.settings.set_figure_params(dpi=80, frameon=False, figsize=(5, 5), facecolor='white')\n",
    "\n",
    "#Set up working directory\n",
    "work_dir = '../../data/SCENIC/ExNeu/'\n",
    "listdir(work_dir)\n",
    "if not os.path.exists(os.path.join(work_dir, 'model')):\n",
    "    os.makedirs(os.path.join(work_dir, 'model'))\n",
    "\n",
    "# Some plotting aesthetics\n",
    "%matplotlib inline\n",
    "sns.set_style('ticks')\n",
    "matplotlib.rcParams['figure.figsize'] = [4, 4]\n",
    "matplotlib.rcParams['figure.dpi'] = 100"
   ]
  },
  {
   "cell_type": "markdown",
   "metadata": {},
   "source": [
    "## Metacell Identification With SEAcells\n",
    "\n",
    "Load the Anndata object made in R"
   ]
  },
  {
   "cell_type": "code",
   "execution_count": null,
   "metadata": {
    "collapsed": false
   },
   "outputs": [],
   "source": [
    "ad = sc.read_h5ad(os.path.join(work_dir, \"objects/RNA.h5ad\"))\n",
    "ad"
   ]
  },
  {
   "cell_type": "markdown",
   "metadata": {},
   "source": [
    "Ensure PCA and UMAP are in correct slots"
   ]
  },
  {
   "cell_type": "code",
   "execution_count": null,
   "metadata": {},
   "outputs": [],
   "source": [
    "ad.obsm['X_pca'] = ad.obsm['PCA'].to_numpy()[:,0:11]\n",
    "ad.obsm['X_umap'] = ad.obsm['UMAP'].to_numpy()"
   ]
  },
  {
   "cell_type": "markdown",
   "metadata": {},
   "source": [
    "#### Plot cell-types for reference"
   ]
  },
  {
   "cell_type": "code",
   "execution_count": null,
   "metadata": {
    "collapsed": false
   },
   "outputs": [],
   "source": [
    "sc.pl.scatter(ad, basis='umap', color='clusters', frameon=False)"
   ]
  },
  {
   "cell_type": "markdown",
   "metadata": {},
   "source": [
    "#### Initialise SEAcells model"
   ]
  },
  {
   "cell_type": "code",
   "execution_count": null,
   "metadata": {
    "collapsed": false
   },
   "outputs": [],
   "source": [
    "## User defined parameters\n",
    "\n",
    "## Core parameters\n",
    "n_SEACells = len(ad.obs.index)/200 #One metacell for every 200 cells\n",
    "build_kernel_on = 'X_pca' # key in ad.obsm to use for computing metacells\n",
    "                          # This would be replaced by 'X_svd' for ATAC data\n",
    "\n",
    "## Additional parameters\n",
    "n_waypoint_eigs = 10 # Number of eigenvalues to consider when initializing metacells"
   ]
  },
  {
   "cell_type": "code",
   "execution_count": null,
   "metadata": {
    "collapsed": false
   },
   "outputs": [],
   "source": [
    "model = SEACells.core.SEACells(ad,\n",
    "                  build_kernel_on=build_kernel_on,\n",
    "                  n_SEACells=n_SEACells,\n",
    "                  n_waypoint_eigs=n_waypoint_eigs,\n",
    "                  convergence_epsilon = 1e-5)\n",
    "\n",
    "model.construct_kernel_matrix()\n",
    "M = model.kernel_matrix\n",
    "\n",
    "# Initialize archetypes\n",
    "model.initialize_archetypes()"
   ]
  },
  {
   "cell_type": "code",
   "execution_count": null,
   "metadata": {
    "collapsed": false
   },
   "outputs": [],
   "source": [
    "# Plot the initilization to ensure they are spread across phenotypic space\n",
    "SEACells.plot.plot_initialization(ad, model)"
   ]
  },
  {
   "cell_type": "markdown",
   "metadata": {},
   "source": [
    "#### Fit model"
   ]
  },
  {
   "cell_type": "code",
   "execution_count": null,
   "metadata": {
    "collapsed": false
   },
   "outputs": [],
   "source": [
    "model.fit(min_iter=10, max_iter=50)"
   ]
  },
  {
   "cell_type": "code",
   "execution_count": null,
   "metadata": {
    "collapsed": false
   },
   "outputs": [],
   "source": [
    "# Check for convergence\n",
    "model.plot_convergence()"
   ]
  },
  {
   "cell_type": "markdown",
   "metadata": {},
   "source": [
    "#### Plot Metacell Assignments"
   ]
  },
  {
   "cell_type": "code",
   "execution_count": null,
   "metadata": {
    "collapsed": false
   },
   "outputs": [],
   "source": [
    "SEACells.plot.plot_2D(ad, key='X_umap', colour_metacells=True)"
   ]
  },
  {
   "cell_type": "markdown",
   "metadata": {},
   "source": [
    "#### Plot Purity"
   ]
  },
  {
   "cell_type": "code",
   "execution_count": null,
   "metadata": {
    "collapsed": false
   },
   "outputs": [],
   "source": [
    "SEACell_purity = SEACells.evaluate.compute_celltype_purity(ad, 'clusters')\n",
    "\n",
    "plt.figure(figsize=(4,4))\n",
    "sns.boxplot(data=SEACell_purity, y='clusters_purity')\n",
    "plt.title('clusters Purity')\n",
    "sns.despine()\n",
    "plt.show()\n",
    "plt.close()\n",
    "\n",
    "SEACell_purity.head()\n",
    "\n",
    "SEACell_purity.to_csv(os.path.join(work_dir, \"MetaCellInfo.csv\")) #Save Cluster Assignments"
   ]
  },
  {
   "cell_type": "markdown",
   "metadata": {},
   "source": [
    "#### Plot Compactness"
   ]
  },
  {
   "cell_type": "code",
   "execution_count": null,
   "metadata": {
    "collapsed": false
   },
   "outputs": [],
   "source": [
    "compactness = SEACells.evaluate.compactness(ad, 'X_pca')\n",
    "\n",
    "plt.figure(figsize=(4,4))\n",
    "sns.boxplot(data=compactness, y='compactness')\n",
    "plt.title('Compactness')\n",
    "sns.despine()\n",
    "plt.show()\n",
    "plt.close()\n",
    "\n",
    "compactness.head()"
   ]
  },
  {
   "cell_type": "markdown",
   "metadata": {},
   "source": [
    "#### Plot Seperation"
   ]
  },
  {
   "cell_type": "code",
   "execution_count": null,
   "metadata": {
    "collapsed": false
   },
   "outputs": [],
   "source": [
    "separation = SEACells.evaluate.separation(ad, 'X_pca',nth_nbr=1)\n",
    "\n",
    "plt.figure(figsize=(4,4))\n",
    "sns.boxplot(data=separation, y='separation')\n",
    "plt.title('Separation')\n",
    "sns.despine()\n",
    "plt.show()\n",
    "plt.close()\n",
    "\n",
    "separation.head()"
   ]
  },
  {
   "cell_type": "markdown",
   "metadata": {},
   "source": [
    "#### Load ATAC Data and add SEAcells info"
   ]
  },
  {
   "cell_type": "code",
   "execution_count": null,
   "metadata": {
    "collapsed": false
   },
   "outputs": [],
   "source": [
    "atac_ad = sc.read_h5ad(os.path.join(work_dir, \"objects/ATAC.h5ad\"))\n",
    "atac_ad.obs['SEACell'] = ad.obs['SEACell']\n",
    "atac_ad"
   ]
  },
  {
   "cell_type": "markdown",
   "metadata": {},
   "source": [
    "#### Save objects"
   ]
  },
  {
   "cell_type": "code",
   "execution_count": null,
   "metadata": {},
   "outputs": [],
   "source": [
    "ad.write_h5ad(os.path.join(work_dir, \"objects/RNA.h5ad\"))\n",
    "atac_ad.write_h5ad(os.path.join(work_dir, \"objects/ATAC.h5ad\"))"
   ]
  }
 ],
 "metadata": {
  "kernelspec": {
   "display_name": "Python 3 (ipykernel)",
   "language": "python",
   "name": "python3"
  },
  "language_info": {
   "codemirror_mode": {
    "name": "ipython",
    "version": 3
   },
   "file_extension": ".py",
   "mimetype": "text/x-python",
   "name": "python",
   "nbconvert_exporter": "python",
   "pygments_lexer": "ipython3",
   "version": "3.11.8"
  },
  "vscode": {
   "interpreter": {
    "hash": "eb4bb617a32919d4a1b52f44f72e24e3739c7442a4f58a7bc491ec635ac76433"
   }
  }
 },
 "nbformat": 4,
 "nbformat_minor": 4
}
