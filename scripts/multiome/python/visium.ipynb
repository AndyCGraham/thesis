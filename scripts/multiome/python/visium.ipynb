{
 "cells": [
  {
   "cell_type": "code",
   "execution_count": null,
   "metadata": {},
   "outputs": [],
   "source": [
    "import scanpy as sc\n",
    "import squidpy as sq\n",
    "import anndata as ad\n",
    "import glob\n",
    "import os\n",
    "import numpy as np\n",
    "import pandas as pd\n",
    "import seaborn as sns\n",
    "import matplotlib.pyplot as plt\n",
    "import scanpy.external as sce\n",
    "import random\n",
    "import cell2location\n",
    "\n",
    "# Check if current working directory is named \"python\" and change if needed\n",
    "current_dir = os.getcwd()\n",
    "if os.path.basename(current_dir) == \"python\":\n",
    "    os.chdir(\"../../../\")\n",
    "    print(f\"Changed working directory to: {os.getcwd()}\")\n",
    "else:\n",
    "    print(f\"Current working directory: {os.getcwd()}\")\n",
    "\n",
    "random.seed(42)\n"
   ]
  },
  {
   "cell_type": "code",
   "execution_count": null,
   "metadata": {},
   "outputs": [],
   "source": [
    "# create paths and names to results folders for reference regression and cell2location models\n",
    "results_folder = 'results/visium/'\n",
    "ref_run_name = f'{results_folder}/reference_signatures'\n",
    "run_name = f'{results_folder}/cell2location_map'"
   ]
  },
  {
   "cell_type": "code",
   "execution_count": null,
   "metadata": {},
   "outputs": [],
   "source": [
    "# Find all h5 files in the data/visium directory\n",
    "h5_files = glob.glob('data/visium/**/filtered_feature_bc_matrix.h5', recursive=True)\n",
    "\n",
    "# Initialize a list to store AnnData objects\n",
    "adata_list = []\n",
    "\n",
    "# Loop through each h5 file\n",
    "for file in h5_files:\n",
    "    adata = sq.read.visium(os.path.dirname(file))\n",
    "    adata.var_names_make_unique()\n",
    "    # Get annotations from filename\n",
    "    split = os.path.basename(os.path.dirname(file)).split('_')\n",
    "    sample_str = '_'.join(split[1:])\n",
    "    adata.obs['sample'] = sample_str[0].upper() + sample_str[1:]\n",
    "    adata.obs['batch'] = split[3].split('-')[0]\n",
    "    # Extract age from the sample name (text before the first underscore)\n",
    "    adata.obs['age'] = split[0]\n",
    "    adata_list.append(adata)\n",
    "\n",
    "# Combine all loaded data if there are any\n",
    "adata = ad.concat(adata_list,uns_merge='unique')\n",
    "\n",
    "# Make barcodes unique\n",
    "adata.obs.index = adata.obs.index.astype(str) + \"_\" + adata.obs[\"sample\"].astype(str).str.replace(\"Mouse_brain_\", \"\")"
   ]
  },
  {
   "cell_type": "code",
   "execution_count": null,
   "metadata": {},
   "outputs": [],
   "source": []
  },
  {
   "cell_type": "code",
   "execution_count": null,
   "metadata": {},
   "outputs": [],
   "source": [
    "print(adata.X[:5, :10].toarray())\n",
    "\n",
    "# You can also check the first few genes and observations\n",
    "print(\"\\nFirst 5 gene names:\")\n",
    "print(adata.var_names[:5])\n",
    "\n",
    "print(\"\\nFirst 5 cells with their metadata:\")\n",
    "print(adata.obs.head())"
   ]
  },
  {
   "cell_type": "code",
   "execution_count": null,
   "metadata": {},
   "outputs": [],
   "source": [
    "sq.pl.spatial_scatter(adata, library_key=\"sample\", color=\"C4b\", vmax=2, title=adata.obs[\"sample\"].unique())"
   ]
  },
  {
   "cell_type": "code",
   "execution_count": null,
   "metadata": {},
   "outputs": [],
   "source": [
    "sq.pl.spatial_scatter(adata, library_key=\"sample\", color=\"Lgals3\", vmax=1, title=adata.obs[\"sample\"].unique())"
   ]
  },
  {
   "cell_type": "code",
   "execution_count": null,
   "metadata": {},
   "outputs": [],
   "source": [
    "# find mitochondria-encoded (MT) genes\n",
    "adata.var[\"mt\"] = adata.var_names.str.startswith(\"mt-\")\n",
    "sc.pp.calculate_qc_metrics(adata, qc_vars=[\"mt\"], inplace=True)"
   ]
  },
  {
   "cell_type": "code",
   "execution_count": null,
   "metadata": {},
   "outputs": [],
   "source": [
    "fig, axs = plt.subplots(1, 4, figsize=(15, 4))\n",
    "sns.histplot(adata.obs[\"total_counts\"], kde=False, ax=axs[0])\n",
    "sns.histplot(adata.obs[\"total_counts\"][adata.obs[\"total_counts\"] < 10000], kde=False, ax=axs[1])\n",
    "sns.histplot(adata.obs[\"n_genes_by_counts\"], kde=False, bins=60, ax=axs[2])\n",
    "sns.histplot(adata.obs[\"pct_counts_mt\"], kde=False, bins=60, ax=axs[3])"
   ]
  },
  {
   "cell_type": "code",
   "execution_count": null,
   "metadata": {},
   "outputs": [],
   "source": [
    "sc.pp.filter_cells(adata, min_counts=2000)\n",
    "#adata = adata[adata.obs[\"pct_counts_mt\"] < 35].copy()\n",
    "print(f\"#cells after MT filter: {adata.n_obs}\")\n",
    "sc.pp.filter_genes(adata, min_cells=3)"
   ]
  },
  {
   "cell_type": "code",
   "execution_count": null,
   "metadata": {},
   "outputs": [],
   "source": [
    "adata.layers[\"counts\"] = adata.X.copy()\n",
    "sc.pp.normalize_total(adata, inplace=True)\n",
    "sc.pp.log1p(adata)\n",
    "sc.pp.highly_variable_genes(adata, flavor=\"seurat\", n_top_genes=2000)"
   ]
  },
  {
   "cell_type": "code",
   "execution_count": null,
   "metadata": {},
   "outputs": [],
   "source": [
    "sc.pp.pca(adata)\n",
    "sc.pp.neighbors(adata)\n",
    "sc.tl.umap(adata)"
   ]
  },
  {
   "cell_type": "markdown",
   "metadata": {},
   "source": [
    "We can see clear batch effects"
   ]
  },
  {
   "cell_type": "code",
   "execution_count": null,
   "metadata": {},
   "outputs": [],
   "source": [
    "plt.rcParams[\"figure.figsize\"] = (4, 4)\n",
    "sc.pl.umap(adata, color=[\"total_counts\", \"n_genes_by_counts\", \"sample\"], wspace=0.4)"
   ]
  },
  {
   "cell_type": "code",
   "execution_count": null,
   "metadata": {},
   "outputs": [],
   "source": [
    "sce.pp.harmony_integrate(adata, 'batch')\n",
    "adata.obsm['X_pca'] = adata.obsm['X_pca_harmony']\n",
    "sc.pl.pca_variance_ratio(adata, log=True)"
   ]
  },
  {
   "cell_type": "code",
   "execution_count": null,
   "metadata": {},
   "outputs": [],
   "source": [
    "sc.pp.neighbors(adata, n_neighbors=10, n_pcs=20)\n",
    "sc.tl.umap(adata)\n",
    "sc.pl.umap(adata, color=[\"total_counts\", \"n_genes_by_counts\", \"sample\"], wspace=0.4)"
   ]
  },
  {
   "cell_type": "code",
   "execution_count": null,
   "metadata": {},
   "outputs": [],
   "source": [
    "res=0.3\n",
    "sc.tl.leiden(adata, resolution=res)\n",
    "adata.obs[f\"leiden_{res}\"] = adata.obs[\"leiden\"].astype(\"category\")\n",
    "plt.rcParams[\"figure.figsize\"] = (4, 4)\n",
    "sc.pl.umap(adata, color=[f\"leiden_{res}\"], wspace=0.4)"
   ]
  },
  {
   "cell_type": "code",
   "execution_count": null,
   "metadata": {},
   "outputs": [],
   "source": [
    "sq.pl.spatial_scatter(adata, library_key=\"sample\", color=f\"leiden_{res}\", title=hippo.obs[\"sample\"].unique())"
   ]
  },
  {
   "cell_type": "code",
   "execution_count": null,
   "metadata": {},
   "outputs": [],
   "source": [
    "hippo = adata[adata.obs[f\"leiden_{res}\"].isin([\"2\",\"8\"])].copy()\n",
    "sq.pl.spatial_scatter(hippo, library_key=\"sample\", color=f\"leiden_{res}\", title=hippo.obs[\"sample\"].unique())"
   ]
  },
  {
   "cell_type": "code",
   "execution_count": null,
   "metadata": {},
   "outputs": [],
   "source": [
    "adata_ref = sc.read_h5ad(\"../projects/multiome/analysis/visium/data/snRNA.h5ad\")"
   ]
  },
  {
   "cell_type": "code",
   "execution_count": null,
   "metadata": {},
   "outputs": [],
   "source": [
    "# prepare anndata for the regression model\n",
    "cell2location.models.RegressionModel.setup_anndata(adata=adata_ref,\n",
    "                        # cell type, covariate used for constructing signatures\n",
    "                        labels_key='Clusters'\n",
    "                       )\n",
    "# create the regression model\n",
    "mod = cell2location.models.RegressionModel(adata_ref)\n",
    "\n",
    "# view anndata_setup as a sanity check\n",
    "mod.view_anndata_setup()\n"
   ]
  },
  {
   "cell_type": "code",
   "execution_count": null,
   "metadata": {},
   "outputs": [],
   "source": [
    "mod.train(max_epochs=250)"
   ]
  },
  {
   "cell_type": "code",
   "execution_count": null,
   "metadata": {},
   "outputs": [],
   "source": [
    "mod.plot_history(20)"
   ]
  },
  {
   "cell_type": "code",
   "execution_count": null,
   "metadata": {},
   "outputs": [],
   "source": [
    "# In this section, we export the estimated cell abundance (summary of the posterior distribution).\n",
    "adata_ref = mod.export_posterior(\n",
    "    adata_ref, sample_kwargs={'num_samples': 1000, 'batch_size': 2500}\n",
    ")\n",
    "\n",
    "# Save model\n",
    "mod.save(f\"{ref_run_name}\", overwrite=True)\n",
    "\n",
    "# Save anndata object with results\n",
    "adata_file = f\"{ref_run_name}/sc.h5ad\"\n",
    "adata_ref.write(adata_file)"
   ]
  },
  {
   "cell_type": "code",
   "execution_count": null,
   "metadata": {},
   "outputs": [],
   "source": [
    "mod.plot_QC()"
   ]
  },
  {
   "cell_type": "code",
   "execution_count": null,
   "metadata": {},
   "outputs": [],
   "source": [
    "# export estimated expression in each cluster\n",
    "if 'means_per_cluster_mu_fg' in adata_ref.varm.keys():\n",
    "    inf_aver = adata_ref.varm['means_per_cluster_mu_fg'][[f'means_per_cluster_mu_fg_{i}'\n",
    "                                    for i in adata_ref.uns['mod']['factor_names']]].copy()\n",
    "else:\n",
    "    inf_aver = adata_ref.var[[f'means_per_cluster_mu_fg_{i}'\n",
    "                                    for i in adata_ref.uns['mod']['factor_names']]].copy()\n",
    "inf_aver.columns = adata_ref.uns['mod']['factor_names']\n",
    "inf_aver.iloc[0:5, 0:5]"
   ]
  },
  {
   "cell_type": "code",
   "execution_count": null,
   "metadata": {},
   "outputs": [],
   "source": [
    "inf_aver.loc[\"Lgals3\",[\"MG.Hm\",\"MG.ARM\"]]"
   ]
  },
  {
   "cell_type": "code",
   "execution_count": null,
   "metadata": {},
   "outputs": [],
   "source": [
    "# find shared genes and subset both anndata and reference signatures\n",
    "adata.layers[\"logcounts\"] = adata.X.copy()\n",
    "adata.X = adata.layers[\"counts\"]\n",
    "\n",
    "# remove MT genes for spatial mapping (keeping their counts in the object)\n",
    "adata = adata[:, ~adata.var['mt'].values]\n",
    "\n",
    "intersect = np.intersect1d(adata.var_names, inf_aver.index)\n",
    "adata = adata[:, intersect].copy()\n",
    "inf_aver = inf_aver.loc[intersect, :].copy()\n",
    "\n",
    "# prepare anndata for cell2location model\n",
    "cell2location.models.Cell2location.setup_anndata(adata=adata, batch_key=\"batch\")"
   ]
  },
  {
   "cell_type": "code",
   "execution_count": null,
   "metadata": {},
   "outputs": [],
   "source": [
    "adata.shape"
   ]
  },
  {
   "cell_type": "code",
   "execution_count": null,
   "metadata": {},
   "outputs": [],
   "source": [
    "# create and train the model\n",
    "mod = cell2location.models.Cell2location(\n",
    "    adata, cell_state_df=inf_aver,\n",
    "    # the expected average cell abundance: tissue-dependent\n",
    "    # hyper-prior which can be estimated from paired histology:\n",
    "    N_cells_per_location=20,\n",
    "    # hyperparameter controlling normalisation of\n",
    "    # within-experiment variation in RNA detection:\n",
    "    detection_alpha=40\n",
    ")\n",
    "mod.view_anndata_setup()"
   ]
  },
  {
   "cell_type": "code",
   "execution_count": null,
   "metadata": {},
   "outputs": [],
   "source": [
    "mod.train(max_epochs=2000,\n",
    "          # train using full data (batch_size=None)\n",
    "          batch_size=None,\n",
    "          # use all data points in training because\n",
    "          # we need to estimate cell abundance at all locations\n",
    "          train_size=1\n",
    "         )"
   ]
  },
  {
   "cell_type": "code",
   "execution_count": null,
   "metadata": {},
   "outputs": [],
   "source": [
    "# plot ELBO loss history during training, removing first 10 epochs from the plot\n",
    "mod.plot_history(10)\n",
    "plt.legend(labels=['full data training']);"
   ]
  },
  {
   "cell_type": "code",
   "execution_count": null,
   "metadata": {},
   "outputs": [],
   "source": [
    "# In this section, we export the estimated cell abundance (summary of the posterior distribution).\n",
    "adata = mod.export_posterior(\n",
    "    adata, sample_kwargs={'num_samples': 1000, 'batch_size': mod.adata.n_obs}\n",
    ")\n",
    "\n",
    "# Save model\n",
    "mod.save(f\"{run_name}\", overwrite=True)\n",
    "\n",
    "# Save anndata object with results\n",
    "adata_file = f\"{run_name}/sp.h5ad\"\n",
    "adata.write(adata_file)"
   ]
  },
  {
   "cell_type": "code",
   "execution_count": null,
   "metadata": {},
   "outputs": [],
   "source": [
    "mod.plot_QC()"
   ]
  },
  {
   "cell_type": "code",
   "execution_count": null,
   "metadata": {},
   "outputs": [],
   "source": [
    "fig = mod.plot_spatial_QC_across_batches()"
   ]
  },
  {
   "cell_type": "markdown",
   "metadata": {},
   "source": [
    "## Plot Cell Abundances"
   ]
  },
  {
   "cell_type": "code",
   "execution_count": null,
   "metadata": {},
   "outputs": [],
   "source": [
    "from cell2location.utils import select_slide\n",
    "# add 5% quantile, representing confident cell abundance, 'at least this amount is present',\n",
    "# to adata.obs with nice names for plotting\n",
    "adata.obs[adata.uns['mod']['factor_names']] = adata.obsm['q05_cell_abundance_w_sf']\n",
    "adata.obs[\"MG.ARM.Norm\"] = adata.obs[\"MG.ARM\"] - adata.obs[\"MG.Hm\"]\n",
    "\n",
    "sq.pl.spatial_scatter(adata, library_key=\"sample\", cmap='magma',\n",
    "                  # show first 8 cell types\n",
    "                  color=['MG.ARM.Norm'],\n",
    "                  ncols=4, size=1.3,\n",
    "                  # limit color scale at 99.2% quantile of cell abundance\n",
    "                  vmin=2,title=adata.obs[\"sample\"].unique(),vmax=3\n",
    "                 )\n"
   ]
  },
  {
   "cell_type": "code",
   "execution_count": null,
   "metadata": {},
   "outputs": [],
   "source": [
    "slide = select_slide(hippo, 'Mouse_brain_B1-2')\n",
    "sq.pl.spatial_scatter(slide, cmap='magma',\n",
    "                  # show first 8 cell types\n",
    "                  color=['MG.ARM.Norm'],\n",
    "                  ncols=4, size=1.3,\n",
    "                  # limit color scale at 99.2% quantile of cell abundance\n",
    "                  vmin=0,vmax=2,title=\"MG.ARM\",\n",
    "                  figsize=(5, 5),\n",
    "                  crop_coord=(5000, 4000, 11000, 13000)\n",
    "                 )"
   ]
  },
  {
   "cell_type": "code",
   "execution_count": null,
   "metadata": {},
   "outputs": [],
   "source": [
    "slide.uns['spatial']['Mouse_brain_B1-2']['images']['hires'].shape"
   ]
  },
  {
   "cell_type": "code",
   "execution_count": null,
   "metadata": {},
   "outputs": [],
   "source": [
    "sq.pl.spatial_scatter(slide, cmap='magma',\n",
    "                  # show first 8 cell types\n",
    "                  color=['Oligodendrocytes.DAO'],\n",
    "                  ncols=4, size=1.3,\n",
    "                  # limit color scale at 99.2% quantile of cell abundance\n",
    "                  vmin=0,vmax=3,title=\"OLG.DAO\",\n",
    "                  figsize=(5, 5),\n",
    "                  crop_coord=(5000, 4000, 11000, 13000)\n",
    "                 )"
   ]
  },
  {
   "cell_type": "code",
   "execution_count": null,
   "metadata": {},
   "outputs": [],
   "source": [
    "sq.pl.spatial_scatter(adata, library_key=\"sample\")"
   ]
  },
  {
   "cell_type": "code",
   "execution_count": null,
   "metadata": {},
   "outputs": [],
   "source": [
    "sq.pl.spatial_scatter(adata, library_key=\"sample\", cmap='magma',\n",
    "                  # show first 8 cell types\n",
    "                  color=['MG.ARM'],\n",
    "                  ncols=4, size=1.3, img_cmap='Blues',\n",
    "                  # limit color scale at 99.2% quantile of cell abundance\n",
    "                  vmin=3,title=adata.obs[\"sample\"].unique(),vmax=4\n",
    "                 )"
   ]
  },
  {
   "cell_type": "code",
   "execution_count": null,
   "metadata": {},
   "outputs": [],
   "source": [
    "sq.pl.spatial_scatter(adata, library_key=\"sample\", cmap='magma',\n",
    "                  # show first 8 cell types\n",
    "                  color=['MG.Hm'],\n",
    "                  ncols=4, size=1.3,\n",
    "                  # limit color scale at 99.2% quantile of cell abundance\n",
    "                  vmin=0,title=adata.obs[\"sample\"].unique()\n",
    "                 )"
   ]
  },
  {
   "cell_type": "code",
   "execution_count": null,
   "metadata": {},
   "outputs": [],
   "source": [
    "adata.obs[\"DAO.Norm\"] = adata.obs[\"Oligodendrocytes.DAO\"] - adata.obs[\"Oligodendrocytes\"]\n",
    "sq.pl.spatial_scatter(adata, library_key=\"sample\", cmap='magma',\n",
    "                  # show first 8 cell types\n",
    "                  color=['DAO.Norm'],\n",
    "                  ncols=4, size=1.3,\n",
    "                  # limit color scale at 99.2% quantile of cell abundance\n",
    "                  vmin=0,title=adata.obs[\"sample\"].unique()\n",
    "                 )"
   ]
  },
  {
   "cell_type": "code",
   "execution_count": null,
   "metadata": {},
   "outputs": [],
   "source": [
    "sq.pl.spatial_scatter(adata, library_key=\"sample\", cmap='magma',\n",
    "                  # show first 8 cell types\n",
    "                  color=['Oligodendrocytes.DAO'],\n",
    "                  ncols=4, size=1.3,\n",
    "                  # limit color scale at 99.2% quantile of cell abundance\n",
    "                  vmin=0,title=adata.obs[\"sample\"].unique()\n",
    "                 )"
   ]
  },
  {
   "cell_type": "code",
   "execution_count": null,
   "metadata": {},
   "outputs": [],
   "source": [
    "sq.pl.spatial_scatter(adata, library_key=\"sample\", cmap='magma',\n",
    "                  # show first 8 cell types\n",
    "                  color=['Oligodendrocytes'],\n",
    "                  ncols=4, size=1.3,\n",
    "                  # limit color scale at 99.2% quantile of cell abundance\n",
    "                  vmin=0,title=adata.obs[\"sample\"].unique()\n",
    "                 )"
   ]
  },
  {
   "cell_type": "code",
   "execution_count": null,
   "metadata": {},
   "outputs": [],
   "source": [
    "sq.pl.spatial_scatter(adata, library_key=\"sample\", cmap='magma',\n",
    "                  # show first 8 cell types\n",
    "                  color=['ExNeu.DG.GC'],\n",
    "                  ncols=4, size=1.3,\n",
    "                  # limit color scale at 99.2% quantile of cell abundance\n",
    "                  vmin=0,title=adata.obs[\"sample\"].unique()\n",
    "                 )"
   ]
  },
  {
   "cell_type": "code",
   "execution_count": null,
   "metadata": {},
   "outputs": [],
   "source": [
    "sq.pl.spatial_scatter(adata, library_key=\"sample\", cmap='magma',\n",
    "                  # show first 8 cell types\n",
    "                  color=['ExNeu.Sub.Cbln4'],\n",
    "                  ncols=4, size=1.3,\n",
    "                  # limit color scale at 99.2% quantile of cell abundance\n",
    "                  vmin=0,title=adata.obs[\"sample\"].unique()\n",
    "                 )"
   ]
  },
  {
   "cell_type": "code",
   "execution_count": null,
   "metadata": {},
   "outputs": [],
   "source": [
    "import scipy\n",
    "hippo = adata[adata.obs[f\"leiden_{res}\"].isin([\"2\",\"8\"])].copy()\n",
    "r,p = scipy.stats.pearsonr(hippo.obs[\"MG.ARM.Norm\"], hippo.obs[\"DAO.Norm\"]) \n",
    "print(f\"r={r}, p={p}\")"
   ]
  },
  {
   "cell_type": "code",
   "execution_count": null,
   "metadata": {},
   "outputs": [],
   "source": [
    "r,p = scipy.stats.pearsonr(hippo.obs[\"MG.ARM\"], hippo.obs[\"ExNeu.DG.GC\"]) \n",
    "print(f\"r={r}, p={p}\")"
   ]
  },
  {
   "cell_type": "code",
   "execution_count": null,
   "metadata": {},
   "outputs": [],
   "source": [
    "r,p = scipy.stats.pearsonr(hippo.obs[\"MG.ARM\"], hippo.layers[\"logcounts\"].toarray()[:, hippo.var_names == \"Serpina3n\"].flatten()) \n",
    "print(f\"r={r}, p={p}\")"
   ]
  },
  {
   "cell_type": "code",
   "execution_count": null,
   "metadata": {},
   "outputs": [],
   "source": [
    "from sklearn.linear_model import ElasticNetCV\n",
    "\n",
    "ridge = ElasticNetCV(cv=5)\n",
    "\n",
    "X = hippo.obs.iloc[:, 25:68].drop(columns=[\"MG.ARM\",\"BAM\",\"NSCs\",\"Neuroblasts\",\"Cajal-Retzus Cells\"])\n",
    "ridge.fit(X,hippo.obs[[\"MG.ARM\"]].to_numpy())"
   ]
  },
  {
   "cell_type": "code",
   "execution_count": null,
   "metadata": {},
   "outputs": [],
   "source": [
    "# Get the feature names from adata.obs columns used in the fit\n",
    "feature_names = X.columns.tolist()\n",
    "\n",
    "# Create a DataFrame with coefficients and their corresponding feature names\n",
    "coef_df = pd.DataFrame({\n",
    "    'Feature': feature_names,\n",
    "    'Coefficient': ridge.coef_  # First column of coefficients for each target\n",
    "})\n",
    "\n",
    "# Sort by absolute coefficient value to see strongest relationships\n",
    "coef_df = coef_df.sort_values(by='Coefficient', key=abs, ascending=False)\n",
    "\n",
    "coef_df"
   ]
  },
  {
   "cell_type": "code",
   "execution_count": null,
   "metadata": {},
   "outputs": [],
   "source": [
    "ridge.coef_[0]"
   ]
  },
  {
   "cell_type": "code",
   "execution_count": null,
   "metadata": {},
   "outputs": [],
   "source": [
    "# Filter for coefficients with absolute value > 0.1\n",
    "filtered_coef = coef_df[abs(coef_df['Coefficient']) > 0.5].copy()\n",
    "filtered_coef = filtered_coef[filtered_coef['Feature'] != 'BAM']\n",
    "\n",
    "# Sort by coefficient values\n",
    "filtered_coef = filtered_coef.sort_values('Coefficient', ascending=False)\n",
    "filtered_coef.loc[filtered_coef['Feature'] == 'Oligodendrocytes.DAO', 'Feature'] = 'OLG.DAO'\n",
    "\n",
    "# Create bar plot with seaborn\n",
    "plt.figure(figsize=(12, 8))\n",
    "ax = sns.barplot(x='Coefficient', y='Feature', data=filtered_coef, palette='coolwarm_r')\n",
    "\n",
    "# Add vertical line at x=0 \n",
    "plt.axvline(x=0, color='black', linestyle='-', alpha=0.7)\n",
    "\n",
    "# Add labels and title\n",
    "plt.title('ARM Prediction Elastic Net Regression Coefficients (abs > 0.5)', fontsize=20)\n",
    "plt.xlabel('Coefficient Value', fontsize=15)\n",
    "plt.ylabel('Cell Type', fontsize=15)\n",
    "plt.yticks(fontsize=15)\n",
    "\n",
    "# Improve readability\n",
    "plt.tight_layout()\n",
    "plt.grid(axis='x', alpha=0.3)\n",
    "\n",
    "# Highlight the \"OLG.DAO\" label in orange\n",
    "for label in ax.get_yticklabels():\n",
    "    if label.get_text() == \"OLG.DAO\":\n",
    "        label.set_color(\"#ED7D31\")\n",
    "        label.set_fontweight('bold')\n",
    "\n",
    "# Show plot\n",
    "plt.show()"
   ]
  },
  {
   "cell_type": "code",
   "execution_count": null,
   "metadata": {},
   "outputs": [],
   "source": [
    "plt.figure(figsize=(12, 8))\n",
    "sns.barplot(x='MG.ARM', y='sample', data=hippo.obs, palette='coolwarm_r')"
   ]
  },
  {
   "cell_type": "code",
   "execution_count": null,
   "metadata": {},
   "outputs": [],
   "source": [
    "plt.figure(figsize=(12, 8))\n",
    "sns.barplot(x='Oligodendrocytes.DAO', y='sample', data=hippo.obs, palette='coolwarm_r')"
   ]
  },
  {
   "cell_type": "code",
   "execution_count": null,
   "metadata": {},
   "outputs": [],
   "source": []
  }
 ],
 "metadata": {
  "kernelspec": {
   "display_name": ".venv",
   "language": "python",
   "name": "python3"
  },
  "language_info": {
   "codemirror_mode": {
    "name": "ipython",
    "version": 3
   },
   "file_extension": ".py",
   "mimetype": "text/x-python",
   "name": "python",
   "nbconvert_exporter": "python",
   "pygments_lexer": "ipython3",
   "version": "3.10.12"
  }
 },
 "nbformat": 4,
 "nbformat_minor": 2
}
