{
 "cells": [
  {
   "cell_type": "markdown",
   "metadata": {},
   "source": [
    "\n",
    "# 10x Multiome Hippocampus"
   ]
  },
  {
   "cell_type": "markdown",
   "metadata": {},
   "source": [
    "## Set-up environment and download data \n",
    "We will first create a directory to store the data and results"
   ]
  },
  {
   "cell_type": "code",
   "execution_count": null,
   "metadata": {},
   "outputs": [],
   "source": [
    "import warnings\n",
    "import sys\n",
    "import os\n",
    "import re\n",
    "import os\n",
    "import json\n",
    "import pickle\n",
    "import dill\n",
    "import random\n",
    "from typing import Union, Dict, Sequence, Optional, List\n",
    "warnings.simplefilter(action='ignore', category=FutureWarning)\n",
    "warnings.filterwarnings(\"ignore\")\n",
    "\n",
    "import pandas as pd\n",
    "import numpy as np\n",
    "\n",
    "os.environ[\"MODIN_ENGINE\"] = \"ray\"\n",
    "import ray\n",
    "\n",
    "# Plotting\n",
    "import matplotlib.pyplot as plt\n",
    "import matplotlib.cm as cm\n",
    "import networkx as nx\n",
    "from matplotlib.colors import to_rgba, to_hex\n",
    "import seaborn as sns\n",
    "\n",
    "# SCENIC\n",
    "import scanpy as sc\n",
    "import mudata\n",
    "import anndata\n",
    "import pycisTopic\n",
    "import pyranges\n",
    "from pycisTopic.cistopic_class import create_cistopic_object\n",
    "from pycisTopic.lda_models import run_cgs_models,evaluate_models\n",
    "from pycisTopic.topic_binarization import binarize_topics\n",
    "from pycisTopic.diff_features import find_highly_variable_features,impute_accessibility,normalize_scores\n",
    "from pycisTopic.utils import region_names_to_coordinates\n",
    "from scenicplus.plotting.dotplot import heatmap_dotplot\n",
    "from scenicplus.scenicplus_class import mudata_to_scenicplus\n",
    "from scenicplus.networks import create_nx_tables, create_nx_graph, plot_networkx, export_to_cytoscape\n",
    "from sklearn.preprocessing import MinMaxScaler, StandardScaler\n",
    "\n",
    "\n",
    "#Setup ray spill to store tmp objects if ray store gets full\n",
    "os.makedirs(os.path.join(work_dir, 'tmp/spill'), exist_ok=True)\n",
    "\n",
    "# Check if current working directory is named \"python\" and change if needed\n",
    "current_dir = os.getcwd()\n",
    "if os.path.basename(current_dir) == \"python\":\n",
    "    os.chdir(\"../../../\")\n",
    "    print(f\"Changed working directory to: {os.getcwd()}\")\n",
    "else:\n",
    "    print(f\"Current working directory: {os.getcwd()}\")\n",
    "\n",
    "#Set up working directory\n",
    "from os import listdir\n",
    "work_dir = 'data/SCENIC/ExNeu/'\n",
    "listdir(work_dir)\n",
    "if not os.path.exists(os.path.join(work_dir, 'model')):\n",
    "    os.makedirs(os.path.join(work_dir, 'model'))\n",
    "\n",
    "#set some figure parameters for nice display inside jupyternotebooks.\n",
    "%matplotlib inline"
   ]
  },
  {
   "cell_type": "markdown",
   "metadata": {},
   "source": [
    "## Load and process ATAC object"
   ]
  },
  {
   "cell_type": "markdown",
   "metadata": {},
   "source": [
    "### Load ATAC object from R"
   ]
  },
  {
   "cell_type": "code",
   "execution_count": null,
   "metadata": {},
   "outputs": [],
   "source": [
    "## 1. Initialize cisTopic object\n",
    "atac_meta_ad = sc.read_h5ad(os.path.join(work_dir, \"objects/ATAC.h5ad\"))\n",
    "matrix = pd.DataFrame(atac_meta_ad.X.transpose().toarray())\n",
    "matrix.columns = list(atac_meta_ad.obs_names)\n",
    "matrix.index = [re.sub('-', ':', region, 1) for region in list(atac_meta_ad.var_names)] #Have to change region name format for cistopic\n",
    "\n",
    "cisTopic_obj = create_cistopic_object(matrix)\n",
    "\n",
    "###Fix cell names to match seurat RNA object\n",
    "cisTopic_obj.cell_names = [L.removesuffix(\"___cisTopic\") for L in cisTopic_obj.cell_names]\n",
    "\n",
    "# Also add the cell meta data\n",
    "cisTopic_obj.add_cell_data(atac_meta_ad.obs)\n",
    "cisTopic_obj.cell_data.index = [L.removesuffix(\"___cisTopic\") for L in cisTopic_obj.cell_data.index]"
   ]
  },
  {
   "cell_type": "markdown",
   "metadata": {
    "collapsed": false,
    "jupyter": {
     "outputs_hidden": false
    }
   },
   "source": [
    "### Compute region topics (co-accessible groups of regions)"
   ]
  },
  {
   "cell_type": "code",
   "execution_count": null,
   "metadata": {},
   "outputs": [],
   "source": [
    "# Run models\n",
    "models=run_cgs_models(\n",
    "    cisTopic_obj,\n",
    "    n_topics=[i for i in range(2, 52, 2)],\n",
    "    n_cpu=9,\n",
    "    n_iter=500,\n",
    "    random_state=555,\n",
    "    alpha=50,\n",
    "    alpha_by_topic=True,\n",
    "    eta=0.1,\n",
    "    eta_by_topic=False,\n",
    "    save_path=\"../ExNeu/pycistopic/\"\n",
    ")\n",
    "\n",
    "# Save models\n",
    "if not os.path.exists(os.path.join(work_dir, 'pycistopic/model')):\n",
    "    os.makedirs(os.path.join(work_dir, 'pycistopic/model'))\n",
    "\n",
    "pickle.dump(models,\n",
    "            open(os.path.join(work_dir, 'pycistopic/model/pycistargetmodel.pkl'), 'wb'))"
   ]
  },
  {
   "cell_type": "code",
   "execution_count": null,
   "metadata": {},
   "outputs": [],
   "source": [
    "##Pick number of topics with highest metric scores\n",
    "model = evaluate_models(models,\n",
    "                       select_model=26,\n",
    "                       return_model=True,\n",
    "                       metrics=['Arun_2010','Cao_Juan_2009', 'Minmo_2011', 'loglikelihood'],\n",
    "                       plot_metrics=False)"
   ]
  },
  {
   "cell_type": "markdown",
   "metadata": {},
   "source": [
    "### Save"
   ]
  },
  {
   "cell_type": "code",
   "execution_count": null,
   "metadata": {},
   "outputs": [],
   "source": [
    "cisTopic_obj.add_LDA_model(model)\n",
    "pickle.dump(cisTopic_obj,\n",
    "            open(os.path.join(work_dir, 'pycistopic/cistopic_obj.pkl'), 'wb'))"
   ]
  },
  {
   "cell_type": "markdown",
   "metadata": {},
   "source": [
    "### Inferring candidate enhancer regions\n",
    "\n",
    "Next we will infer candidate enhancer regions by:\n",
    "\n",
    "1. binarization of region-topic probabilites.\n",
    "2. calculation differentially accessibile regions (DARs) per meta cell.\n",
    "\n",
    "These regions will be used as input for the next step, [pycistarget](https://pycistarget.readthedocs.io/en/latest/), in which we will look which motifs are enriched in these regions."
   ]
  },
  {
   "cell_type": "markdown",
   "metadata": {},
   "source": [
    "First we will binarize the topics using the [otsu](http://ieeexplore.ieee.org/document/4310076/) method and by taking the top 5k regions per topic."
   ]
  },
  {
   "cell_type": "code",
   "execution_count": null,
   "metadata": {},
   "outputs": [],
   "source": [
    "cisTopic_obj = dill.load(open(os.path.join(work_dir, 'pycistopic/cistopic_obj.pkl'), 'rb'))\n",
    "region_bin_topics_otsu = binarize_topics(cisTopic_obj, method='otsu')\n",
    "region_bin_topics_top3k = binarize_topics(cisTopic_obj, method='ntop', ntop = 3000,plot=True, num_columns=5)"
   ]
  },
  {
   "cell_type": "markdown",
   "metadata": {},
   "source": [
    "Next we will calculate DARs per Substate"
   ]
  },
  {
   "cell_type": "code",
   "execution_count": null,
   "metadata": {},
   "outputs": [],
   "source": [
    "##I am using SEACell column - choose whatever works for you\n",
    "imputed_acc_obj = impute_accessibility(cisTopic_obj, selected_cells=None, \n",
    "                                       selected_regions=None, scale_factor=10**6)\n",
    "\n",
    "normalized_imputed_acc_obj = normalize_scores(imputed_acc_obj, scale_factor=10**4)\n",
    "variable_regions = find_highly_variable_features(normalized_imputed_acc_obj,  \n",
    "                                                 min_disp = 0.05,\n",
    "                                                 min_mean = 0.0125,\n",
    "                                                 max_mean = 3,\n",
    "                                                 max_disp = np.inf,\n",
    "                                                 n_bins=20, plot = True)\n",
    "\n",
    "#Can alter thresholds to fit your data/question\n",
    "markers_dict = find_diff_features(cisTopic_obj, imputed_acc_obj, \n",
    "                                  variable='SEACell', \n",
    "                                  split_pattern = '-', \n",
    "                                  adjpval_thr = 0.05, log2fc_thr = 1, n_cpu=9)"
   ]
  },
  {
   "cell_type": "code",
   "execution_count": null,
   "metadata": {
    "collapsed": false,
    "jupyter": {
     "outputs_hidden": false
    }
   },
   "outputs": [],
   "source": [
    "#Filter out sets with no DARs\n",
    "markers_dict = {k: v for k, v in markers_dict.items() if len(v.index) > 0}\n",
    "markers_dict"
   ]
  },
  {
   "cell_type": "markdown",
   "metadata": {},
   "source": [
    "### Save candidate enhancers"
   ]
  },
  {
   "cell_type": "code",
   "execution_count": null,
   "metadata": {},
   "outputs": [],
   "source": [
    "os.makedirs(os.path.join(work_dir, \"region_sets\"), exist_ok = True)\n",
    "os.makedirs(os.path.join(work_dir, \"region_sets\", \"Topics_otsu\"), exist_ok = True)\n",
    "os.makedirs(os.path.join(work_dir, \"region_sets\", \"Topics_top_3k\"), exist_ok = True)\n",
    "os.makedirs(os.path.join(work_dir, \"region_sets\", \"DARs_cell_type\"), exist_ok = True)"
   ]
  },
  {
   "cell_type": "code",
   "execution_count": null,
   "metadata": {},
   "outputs": [],
   "source": [
    "for topic in region_bin_topics_otsu:\n",
    "    region_names_to_coordinates(\n",
    "        region_bin_topics_otsu[topic].index\n",
    "    ).sort_values(\n",
    "        [\"Chromosome\", \"Start\", \"End\"]\n",
    "    ).to_csv(\n",
    "        os.path.join(work_dir, \"region_sets\", \"Topics_otsu\", f\"{topic}.bed\"),\n",
    "        sep = \"\\t\",\n",
    "        header = False, index = False\n",
    "    )\n",
    "\n",
    "for topic in region_bin_topics_top_3k:\n",
    "    region_names_to_coordinates(\n",
    "        region_bin_topics_top_3k[topic].index\n",
    "    ).sort_values(\n",
    "        [\"Chromosome\", \"Start\", \"End\"]\n",
    "    ).to_csv(\n",
    "        os.path.join(work_dir, \"region_sets\", \"Topics_top_3k\", f\"{topic}.bed\"),\n",
    "        sep = \"\\t\",\n",
    "        header = False, index = False\n",
    "    )\n",
    "\n",
    "for SEAcell in markers_dict:\n",
    "    region_names_to_coordinates(\n",
    "        markers_dict[SEAcell].index\n",
    "    ).sort_values(\n",
    "        [\"Chromosome\", \"Start\", \"End\"]\n",
    "    ).to_csv(\n",
    "        os.path.join(work_dir, \"region_sets\", \"DARs_cell_type\", f\"{SEAcell}.bed\"),\n",
    "        sep = \"\\t\",\n",
    "        header = False, index = False\n",
    "    )"
   ]
  },
  {
   "cell_type": "code",
   "execution_count": null,
   "metadata": {},
   "outputs": [],
   "source": [
    "if not os.path.exists(os.path.join(work_dir, 'pycistopic/candidate_enhancers')):\n",
    "    os.makedirs(os.path.join(work_dir, 'pycistopic/candidate_enhancers'))\n",
    "import pickle\n",
    "pickle.dump(region_bin_topics_otsu, open(os.path.join(work_dir, 'pycistopic/candidate_enhancers/region_bin_topics_otsu.pkl'), 'wb'))\n",
    "pickle.dump(region_bin_topics_top3k, open(os.path.join(work_dir, 'pycistopic/candidate_enhancers/region_bin_topics_top3k.pkl'), 'wb'))\n",
    "pickle.dump(markers_dict, open(os.path.join(work_dir, 'pycistopic/candidate_enhancers/markers_dict.pkl'), 'wb'))"
   ]
  },
  {
   "cell_type": "markdown",
   "metadata": {},
   "source": [
    "Between R and Python we have now completed all the mininal scATAC-seq preprocessing steps. \n",
    "\n",
    "In particular we:\n",
    "\n",
    "1. generated a set of consensus peaks (R)\n",
    "2. performed quality control steps, only keeping cell barcods which passed QC metrics in both the scRNA-seq and scATAC-seq assay (R)\n",
    "3. performed topic modeling (Python)\n",
    "4. inferred candidate enhancer regions by binarizing the region-topic probabilities and DARs per cell type (Py)\n",
    "\n",
    "In the next step we will perform motif enrichment analysis on these candidate enhancer regions using the python package, [pycistarget](phttps://pycistarget.readthedocs.io/en/latest/). For this a precomputed motif-score database is needed. A sample specific database can be generated by scoring the consensus peaks with motifs or a general pre-scored database can be used as well."
   ]
  },
  {
   "cell_type": "markdown",
   "metadata": {},
   "source": [
    "## Generate a custom cisTarget database"
   ]
  },
  {
   "cell_type": "markdown",
   "metadata": {},
   "source": [
    "Pad genome fasta"
   ]
  },
  {
   "cell_type": "code",
   "execution_count": null,
   "metadata": {},
   "outputs": [],
   "source": [
    "%%bash\n",
    "REGION_BED=\"../ExNeu/objects/ConsensusPeaks.bed\"\n",
    "GENOME_FASTA=\"../resources/genome.fa\"\n",
    "CHROMSIZES=\"../resources/mm10.chrom.sizes\"\n",
    "DATABASE_PREFIX=\"multiome_ExNeu\"\n",
    "SCRIPT_DIR=\"../create_cisTarget_databases\"\n",
    "\n",
    "${SCRIPT_DIR}/create_fasta_with_padded_bg_from_bed.sh \\\n",
    "        ${GENOME_FASTA} \\\n",
    "        ${CHROMSIZES} \\\n",
    "        ${REGION_BED} \\\n",
    "        \"../../results/SCENIC/ExNeu/objects/mm10.${DATABASE_PREFIX}.with_1kb_bg_padding.fa\" \\\n",
    "        1000 \\\n",
    "        yes"
   ]
  },
  {
   "cell_type": "markdown",
   "metadata": {},
   "source": [
    "Download motifs"
   ]
  },
  {
   "cell_type": "code",
   "execution_count": null,
   "metadata": {},
   "outputs": [],
   "source": [
    "%%bash\n",
    "mkdir -p ../resources/aertslab_motif_colleciton\n",
    "wget -O ../resources/aertslab_motif_colleciton/v10nr_clust_public.zip https://resources.aertslab.org/cistarget/motif_collections/v10nr_clust_public/v10nr_clust_public.zip\n",
    "cd ../resources/aertslab_motif_colleciton/; unzip -q v10nr_clust_public.zip\n",
    "cd ../code/\n",
    "ls ../resources/aertslab_motif_colleciton/v10nr_clust_public/singletons > ../resources/motifs.txt"
   ]
  },
  {
   "cell_type": "markdown",
   "metadata": {},
   "source": [
    "Generate custom database"
   ]
  },
  {
   "cell_type": "code",
   "execution_count": null,
   "metadata": {},
   "outputs": [],
   "source": [
    "%%bash\n",
    "source ~/.bashrc\n",
    "source activate /opt/conda/envs/scenicplus\n",
    "conda install -y flatbuffers\n",
    "CBDIR=\"../../resources/aertslab_motif_colleciton/v10nr_clust_public/singletons\"\n",
    "FASTA_FILE=\"../../data/SCENIC/ExNeu/objects/mm10.${DATABASE_PREFIX}.with_1kb_bg_padding.fa\"\n",
    "MOTIF_LIST=\"../../resources/motifs.txt\"\n",
    "OUT_DIR=\"../../data/SCENIC/ExNeu/objects/\"\n",
    "REGION_BED=\"../../data/SCENIC/ExNeu/objects/ConsensusPeaks.bed\"\n",
    "GENOME_FASTA=\"../../resources/genome.fa\"\n",
    "CHROMSIZES=\"../../resources/mm10.chrom.sizes\"\n",
    "DATABASE_PREFIX=\"multiome_ExNeu\"\n",
    "SCRIPT_DIR=\"../create_cisTarget_databases\"\n",
    "\n",
    "\"${SCRIPT_DIR}/create_cistarget_motif_databases.py\" \\\n",
    "    -f ${FASTA_FILE} \\\n",
    "    -M ${CBDIR} \\\n",
    "    -m ${MOTIF_LIST} \\\n",
    "    -o ${OUT_DIR}/${DATABASE_PREFIX} \\\n",
    "    --bgpadding 1000 \\\n",
    "    -t 9"
   ]
  },
  {
   "cell_type": "markdown",
   "metadata": {},
   "source": [
    "## SCENIC+ Pipeline with Snakemake"
   ]
  },
  {
   "cell_type": "markdown",
   "metadata": {},
   "source": [
    "### Cistarget databases\n",
    "\n",
    "In order to run pycistarget one needs a precomputed database containing motif scores for genomic regions.\n",
    "\n",
    "You can choose to compute this database yourself by scoring the consensus peaks generated in the scATAC-seq analysis using a set of motifs. The advantage of creating a sample specific database is that you can potentially pick up more target regions, given that only regions included/overlappig with regions in the cistarget database will be used for the SCENIC+ analysis. For more information checkout the [create_cisTarget_databases repo on github](https://github.com/aertslab/create_cisTarget_databases). \n",
    "\n",
    "We also provide several precomputed databases containing regions covering many experimentally defined candidate cis-regulatory elements. These databases are available on: [https://resources.aertslab.org/cistarget/](https://resources.aertslab.org/cistarget/).\n",
    "\n",
    "For this analysis we will use a precomputed database using [screen regions](https://screen.encodeproject.org/).\n",
    "\n",
    "Next to a precomputed motif database we also need a motif-to-tf annotation database. This is also available on [https://resources.aertslab.org/cistarget/](https://resources.aertslab.org/cistarget/)."
   ]
  },
  {
   "cell_type": "markdown",
   "metadata": {},
   "source": [
    "### Load RNA object and save as raw counts"
   ]
  },
  {
   "cell_type": "code",
   "execution_count": null,
   "metadata": {},
   "outputs": [],
   "source": [
    "# Set stderr to null to avoid strange messages from ray\n",
    "_stderr = sys.stderr                                                         \n",
    "null = open(os.devnull,'wb')\n",
    "\n",
    "adata = sc.read_h5ad(os.path.join(work_dir, \"objects/RNA.h5ad\"))\n",
    "adata.raw = adata\n",
    "adata.write_h5ad(os.path.join(work_dir, \"objects/RNA.h5ad\"))"
   ]
  },
  {
   "cell_type": "code",
   "execution_count": null,
   "metadata": {},
   "outputs": [],
   "source": [
    "!mkdir -p \"../../results/SCENIC/scplus_pipeline\"\n",
    "!scenicplus init_snakemake --out_dir \"../../results/SCENIC/scplus_pipeline\""
   ]
  },
  {
   "cell_type": "code",
   "execution_count": null,
   "metadata": {},
   "outputs": [],
   "source": [
    "!mkdir -p ../../results/SCENIC/ExNeu/outs\n",
    "!mkdir -p ../../data/SCENIC/ExNeu/tmp"
   ]
  },
  {
   "cell_type": "markdown",
   "metadata": {},
   "source": [
    "Uncomment this cell to load resources if not previously downloaded"
   ]
  },
  {
   "cell_type": "code",
   "execution_count": null,
   "metadata": {},
   "outputs": [],
   "source": [
    "#!wget -P ../../resources/ https://resources.aertslab.org/cistarget/motif2tf/motifs-v10nr_clust-nr.mgi-m0.001-o0.0.tbl"
   ]
  },
  {
   "cell_type": "markdown",
   "metadata": {},
   "source": [
    "### Run SCENIC+ pipeline"
   ]
  },
  {
   "cell_type": "code",
   "execution_count": null,
   "metadata": {},
   "outputs": [],
   "source": [
    "%%bash\n",
    "cd \"../../results/SCENIC/scplus_pipeline\" \n",
    "snakemake --cores 9"
   ]
  },
  {
   "cell_type": "markdown",
   "metadata": {},
   "source": [
    "## Load Results and Analyse"
   ]
  },
  {
   "cell_type": "code",
   "execution_count": null,
   "metadata": {},
   "outputs": [],
   "source": [
    "scplus_mdata = mudata.read(\"../../results/SCENIC/ExNeu/scplus_pipeline/Snakemake/scplusmdata.h5mu\")"
   ]
  },
  {
   "cell_type": "code",
   "execution_count": null,
   "metadata": {},
   "outputs": [],
   "source": [
    "scplus_mdata.obs[\"scRNA_counts:Engram\"] = adata.obs[\"Engram\"]"
   ]
  },
  {
   "cell_type": "markdown",
   "metadata": {},
   "source": [
    "Direct and extended predicted TF-to-region-to-gene links. This dataframe contains also a ranking of each TF-region-gene triplet, based on its importance triplet_rank."
   ]
  },
  {
   "cell_type": "code",
   "execution_count": null,
   "metadata": {},
   "outputs": [],
   "source": [
    "scplus_mdata.uns[\"direct_e_regulon_metadata\"]"
   ]
  },
  {
   "cell_type": "markdown",
   "metadata": {},
   "source": [
    "Count the number of regions in each TFs GRN"
   ]
  },
  {
   "cell_type": "code",
   "execution_count": null,
   "metadata": {},
   "outputs": [],
   "source": [
    "scplus_mdata.uns[\"direct_e_regulon_metadata\"].TF.value_counts()"
   ]
  },
  {
   "cell_type": "markdown",
   "metadata": {},
   "source": [
    "View Fosb GRN"
   ]
  },
  {
   "cell_type": "code",
   "execution_count": null,
   "metadata": {},
   "outputs": [],
   "source": [
    "scplus_mdata.uns[\"direct_e_regulon_metadata\"][scplus_mdata.uns[\"direct_e_regulon_metadata\"].TF == \"Fosb\"]"
   ]
  },
  {
   "cell_type": "markdown",
   "metadata": {},
   "source": [
    "eRegulon dimensionality reduction"
   ]
  },
  {
   "cell_type": "code",
   "execution_count": null,
   "metadata": {},
   "outputs": [],
   "source": [
    "eRegulon_gene_AUC = anndata.concat(\n",
    "    [scplus_mdata[\"direct_gene_based_AUC\"], scplus_mdata[\"extended_gene_based_AUC\"]],\n",
    "    axis = 1,\n",
    ")"
   ]
  },
  {
   "cell_type": "code",
   "execution_count": null,
   "metadata": {},
   "outputs": [],
   "source": [
    "eRegulon_gene_AUC.obs = scplus_mdata.obs.loc[eRegulon_gene_AUC.obs_names]\n",
    "sc.pp.neighbors(eRegulon_gene_AUC, use_rep = \"X\")\n",
    "sc.tl.umap(eRegulon_gene_AUC)\n",
    "sc.pl.umap(eRegulon_gene_AUC, color = \"scRNA_counts:clusters\")"
   ]
  },
  {
   "cell_type": "markdown",
   "metadata": {},
   "source": [
    "View engram cells and IDs on this GRN UMAP"
   ]
  },
  {
   "cell_type": "code",
   "execution_count": null,
   "metadata": {},
   "outputs": [],
   "source": [
    "sc.pl.umap(eRegulon_gene_AUC, color = \"scRNA_counts:Engram\")"
   ]
  },
  {
   "cell_type": "code",
   "execution_count": null,
   "metadata": {},
   "outputs": [],
   "source": [
    "sc.pl.umap(eRegulon_gene_AUC, color = \"scRNA_counts:ID\")"
   ]
  },
  {
   "cell_type": "markdown",
   "metadata": {},
   "source": [
    "#### Heatmap dotplot of GRN activity in engram and non-engram cells"
   ]
  },
  {
   "cell_type": "code",
   "execution_count": null,
   "metadata": {},
   "outputs": [],
   "source": [
    "heatmap_dotplot(\n",
    "    scplus_mudata = scplus_mdata,\n",
    "    color_modality = \"direct_gene_based_AUC\",\n",
    "    size_modality = \"direct_region_based_AUC\",\n",
    "    group_variable = \"scRNA_counts:Engram\",\n",
    "    eRegulon_metadata_key = \"direct_e_regulon_metadata\",\n",
    "    color_feature_key = \"Gene_signature_name\",\n",
    "    size_feature_key = \"Region_signature_name\",\n",
    "    feature_name_key = \"eRegulon_name\",\n",
    "    sort_data_by = \"direct_gene_based_AUC\",\n",
    "    orientation = \"horizontal\",\n",
    "    figsize = (16, 5),\n",
    "    scale_size_matrix = False, scale_color_matrix = False\n",
    ")"
   ]
  },
  {
   "cell_type": "markdown",
   "metadata": {},
   "source": [
    "### Plot GRNs"
   ]
  },
  {
   "cell_type": "markdown",
   "metadata": {},
   "source": [
    "Convert to scplus object to enable graph plotting "
   ]
  },
  {
   "cell_type": "code",
   "execution_count": null,
   "metadata": {},
   "outputs": [],
   "source": [
    "scplus_obj = mudata_to_scenicplus(\n",
    "    mdata = scplus_mdata,\n",
    "    path_to_cistarget_h5 = \"../ExNeu/scplus_pipeline/Snakemake/ctx_results.hdf5\",\n",
    "    path_to_dem_h5 = \"../ExNeu/scplus_pipeline/Snakemake/dem_results.hdf5\"\n",
    ")"
   ]
  },
  {
   "cell_type": "code",
   "execution_count": null,
   "metadata": {},
   "outputs": [],
   "source": [
    "#### Find variable features as we'll plot these for GRN visibility"
   ]
  },
  {
   "cell_type": "code",
   "execution_count": null,
   "metadata": {
    "scrolled": true
   },
   "outputs": [],
   "source": [
    "scplus_obj.metadata_cell[\"Engram\"] = scplus_mdata.obs[\"scRNA_counts:Engram\"]\n",
    "hvr = find_highly_variable_features(scplus_obj.to_df('ACC').loc[list(set(scplus_obj.uns['eRegulon_metadata']['Region']))], n_top_features=6000, plot = True)\n",
    "hvg = find_highly_variable_features(scplus_obj.to_df('EXP')[list(set(scplus_obj.uns['eRegulon_metadata']['Gene']))].T, n_top_features=6000, plot = True)"
   ]
  },
  {
   "cell_type": "markdown",
   "metadata": {},
   "source": [
    "#### GRN Plots"
   ]
  },
  {
   "cell_type": "code",
   "execution_count": null,
   "metadata": {},
   "outputs": [],
   "source": [
    "##Custom function to allow adding extended regulons to the plots\n",
    "\n",
    "def create_extended_nx_tables(scplus_obj: 'SCENICPLUS',\n",
    "                     eRegulon_metadata_key: str ='eRegulon_metadata_filtered',\n",
    "                     subset_eRegulons: list = None,\n",
    "                     subset_regions: list = None,\n",
    "                     subset_genes: list = None,\n",
    "                     add_differential_gene_expression: bool = False,\n",
    "                     add_differential_region_accessibility: bool = False,\n",
    "                     differential_variable: list =[]):\n",
    "    \"\"\"\n",
    "    A function to format eRegulon data into tables for plotting eGRNs. Adapted from SCENIC+ to enable plotting of networks from extended motifs.\n",
    "    \n",
    "    Parameters\n",
    "    ---------\n",
    "    scplus_obj: SCENICPLUS\n",
    "        A SCENICPLUS object with eRegulons\n",
    "    eRegulon_metadata_key: str, optional\n",
    "        Key where the eRegulon metadata dataframe is stored\n",
    "    subset_eRegulons: list, optional\n",
    "        List of eRegulons to subset\n",
    "    subset_regions: list, optional\n",
    "        List of regions to subset\n",
    "    subset_genes: list, optional\n",
    "        List of genes to subset\n",
    "    add_differential_gene_expression: bool, optional\n",
    "        Whether to calculate differential gene expression logFC for a given variable\n",
    "    add_differential_region_accessibility: bool, optional\n",
    "        Whether to calculate differential region accessibility logFC for a given variable\n",
    "    differential_variable: list, optional\n",
    "        Variable to calculate differential gene expression or region accessibility.\n",
    "        \n",
    "    Return\n",
    "    ---------\n",
    "    A dictionary with edge feature tables ('TF2G', 'TF2R', 'R2G') and node feature tables ('TF', 'Gene', 'Region')\n",
    "    \"\"\"\n",
    "    er_metadata = scplus_obj.uns[eRegulon_metadata_key].copy()\n",
    "    if subset_eRegulons is not None:\n",
    "        er_metadata = er_metadata[er_metadata['TF'].isin(subset_eRegulons)]\n",
    "    if subset_regions is not None:\n",
    "        er_metadata = er_metadata[er_metadata['Region'].isin(subset_regions)]\n",
    "    if subset_genes is not None:\n",
    "        er_metadata = er_metadata[er_metadata['Gene'].isin(subset_genes)]\n",
    "    nx_tables = {}\n",
    "    nx_tables['Edge'] = {}\n",
    "    nx_tables['Node'] = {}\n",
    "\n",
    "    if subset_regions is not None:\n",
    "        er_metadata = er_metadata[er_metadata['Region'].isin(subset_regions)]\n",
    "    if subset_genes is not None:\n",
    "        er_metadata = er_metadata[er_metadata['Gene'].isin(subset_genes)]\n",
    "    nx_tables = {}\n",
    "    nx_tables['Edge'] = {}\n",
    "    nx_tables['Node'] = {}\n",
    "    # Generate edge tables\n",
    "    r2g_columns = [x for x in er_metadata.columns if 'R2G' in x]\n",
    "    tf2g_columns = [x for x in er_metadata.columns if 'TF2G' in x]\n",
    "    nx_tables['Edge']['TF2R'] = er_metadata[er_metadata.columns.difference(\n",
    "        r2g_columns + tf2g_columns)].drop('Gene', axis=1).drop_duplicates()\n",
    "    nx_tables['Edge']['TF2R'] = nx_tables['Edge']['TF2R'][['TF', 'Region'] +\n",
    "    nx_tables['Edge']['TF2R'].columns.difference(['TF', 'Region']).tolist()]\n",
    "    nx_tables['Edge']['R2G'] = er_metadata[er_metadata.columns.difference(\n",
    "        tf2g_columns)].drop('TF', axis=1).drop_duplicates()\n",
    "    nx_tables['Edge']['R2G'] = nx_tables['Edge']['R2G'][['Region', 'Gene'] +\n",
    "                                                        nx_tables['Edge']['R2G'].columns.difference(['Region', 'Gene']).tolist()]\n",
    "    nx_tables['Edge']['TF2G'] = er_metadata[er_metadata.columns.difference(\n",
    "        r2g_columns)].drop('Region', axis=1).drop_duplicates()\n",
    "    nx_tables['Edge']['TF2G'] = nx_tables['Edge']['TF2G'][['TF', 'Gene'] +\n",
    "                                                            nx_tables['Edge']['TF2G'].columns.difference(['TF', 'Gene']).tolist()]\n",
    "    # Generate node tables\n",
    "    tfs = list(set(er_metadata['TF']))\n",
    "    nx_tables['Node']['TF'] = pd.DataFrame(\n",
    "        'TF', index=tfs, columns=['Node_type'])\n",
    "    nx_tables['Node']['TF']['TF'] = tfs\n",
    "    genes = list(set(er_metadata['Gene']))\n",
    "    genes = [x for x in genes if x not in tfs]\n",
    "    nx_tables['Node']['Gene'] = pd.DataFrame(\n",
    "        'Gene', index=genes, columns=['Node_type'])\n",
    "    nx_tables['Node']['Gene']['Gene'] = genes\n",
    "    regions = list(set(er_metadata['Region']))\n",
    "    nx_tables['Node']['Region'] = pd.DataFrame(\n",
    "        'Region', index=regions, columns=['Node_type'])\n",
    "    nx_tables['Node']['Region']['Region'] = regions\n",
    "    # Add gene logFC\n",
    "    if add_differential_gene_expression is True:\n",
    "        for var in differential_variable:\n",
    "            nx_tables['Node']['TF'] = pd.concat([nx_tables['Node']['TF'], _get_log2fc_nx(\n",
    "                scplus_obj, var, nx_tables['Node']['TF'].index.tolist(), contrast='gene')], axis=1)\n",
    "            nx_tables['Node']['Gene'] = pd.concat([nx_tables['Node']['Gene'], _get_log2fc_nx(\n",
    "                scplus_obj, var, nx_tables['Node']['Gene'].index.tolist(), contrast='gene')], axis=1)\n",
    "    if add_differential_region_accessibility is True:\n",
    "        for var in differential_variable:\n",
    "            nx_tables['Node']['Region'] = pd.concat([nx_tables['Node']['Region'], _get_log2fc_nx(\n",
    "                scplus_obj, var, nx_tables['Node']['Region'].index.tolist(), contrast='region')], axis=1)\n",
    "    return nx_tables\n",
    "            \n",
    "def _get_log2fc_nx(scplus_obj: 'SCENICPLUS',\n",
    "                  variable,\n",
    "                  features,\n",
    "                  contrast: str = 'gene'\n",
    "                  ):\n",
    "    \"\"\"\n",
    "    A helper function to derive log2fc changes\n",
    "    \"\"\"\n",
    "    if contrast == 'gene':\n",
    "        adata = anndata.AnnData(X=scplus_obj.X_EXP, obs=pd.DataFrame(\n",
    "            index=scplus_obj.cell_names), var=pd.DataFrame(index=scplus_obj.gene_names))\n",
    "    if contrast == 'region':\n",
    "        adata = anndata.AnnData(X=scplus_obj.X_ACC.T, obs=pd.DataFrame(\n",
    "            index=scplus_obj.cell_names), var=pd.DataFrame(index=scplus_obj.region_names))\n",
    "    adata.obs = pd.DataFrame(scplus_obj.metadata_cell[variable])\n",
    "    sc.pp.normalize_total(adata, target_sum=1e4)\n",
    "    sc.pp.log1p(adata)\n",
    "    adata = adata[:, features]\n",
    "    sc.tl.rank_genes_groups(\n",
    "        adata, variable, method='wilcoxon', corr_method='bonferroni')\n",
    "    groups = adata.uns['rank_genes_groups']['names'].dtype.names\n",
    "    diff_list = [_format_df_nx(sc.get.rank_genes_groups_df(\n",
    "        adata, group=group), group, variable) for group in groups]\n",
    "    return pd.concat(diff_list, axis=1)\n",
    "\n",
    "def _format_df_nx(df, key, var):\n",
    "    \"\"\"\n",
    "    A helper function to format differential test results\n",
    "    \"\"\"\n",
    "    df.index = df['names']\n",
    "    df = pd.DataFrame(df['logfoldchanges'])\n",
    "    df.columns = [var+'_Log2FC_'+key]\n",
    "    df.index.name = None\n",
    "    return df"
   ]
  },
  {
   "cell_type": "markdown",
   "metadata": {},
   "source": [
    "Format the eRegulons into a table which can be used to create a network using the package [networkx](https://networkx.org/)"
   ]
  },
  {
   "cell_type": "code",
   "execution_count": null,
   "metadata": {},
   "outputs": [],
   "source": [
    "scplus_obj.metadata_cell['clusters'] = scplus_obj.metadata_cell['clusters'] = scplus_obj.metadata_cell['clusters'].astype(str)\n",
    "\n",
    "#Whichever TFs you want to plot the regulons of\n",
    "TF1 = 'Fosb'\n",
    "TF2 = 'Mef2c'\n",
    "TF3 = 'Junb'\n",
    "TF4 = \"Nr4a1\"\n",
    "TF5 = \"Creb1\"\n",
    "\n",
    "nx_tables = create_extended_nx_tables(\n",
    "    scplus_obj = scplus_obj,\n",
    "    eRegulon_metadata_key ='eRegulon_metadata',\n",
    "    subset_eRegulons = [TF1, TF2, TF3, TF4, TF5],\n",
    "    #subset_regions = hvr,\n",
    "    #subset_genes = hvg,\n",
    "    add_differential_gene_expression = True,\n",
    "    add_differential_region_accessibility = True,\n",
    "    differential_variable = ['Engram'])"
   ]
  },
  {
   "cell_type": "markdown",
   "metadata": {},
   "source": [
    "Next we layout the graph."
   ]
  },
  {
   "cell_type": "code",
   "execution_count": null,
   "metadata": {},
   "outputs": [],
   "source": [
    "#Change 'Engram_Log2FC_Varset' to the comparison you want to plot as the colours (Has to be one calculated above)\n",
    "\n",
    "G, pos, edge_tables, node_tables = create_nx_graph(nx_tables,\n",
    "                   use_edge_tables = ['TF2R','R2G'],\n",
    "                   color_edge_by = {'TF2R': {'variable' : 'TF', 'category_color' : {TF1: 'cornflowerblue', TF2: 'tan', TF3: 'cyan', TF4: 'Purple', TF5: 'peru'}},\n",
    "                                    'R2G': {'variable' : 'importance_x_rho', 'continuous_color' : 'viridis', 'v_min': -1, 'v_max': 1}},\n",
    "                   transparency_edge_by =  {'R2G': {'variable' : 'importance_x_rho', 'min_alpha': 0.1, 'v_min': 0}},\n",
    "                   width_edge_by = {'R2G': {'variable' : 'importance_x_rho', 'max_size' :  1.5, 'min_size' : 1}},\n",
    "                   color_node_by = {'TF': {'variable': 'TF', 'category_color' : {TF1: 'cornflowerblue', TF2: 'tan', TF3: 'cyan', TF4: 'Purple', TF5: 'peru'}},\n",
    "                                    'Gene': {'variable': 'Engram_Log2FC_Varset', 'continuous_color' : 'bwr', 'v_max': 1.5, 'v_min': -1.5},\n",
    "                                    'Region': {'variable': 'Engram_Log2FC_Varset', 'continuous_color' : 'bwr', 'v_max': 1.5, 'v_min': -1.5}},\n",
    "                   transparency_node_by =  {'Region': {'variable' : 'Engram_Log2FC_Varset', 'min_alpha': 0.5},\n",
    "                                    'Gene': {'variable' : 'Engram_Log2FC_Varset', 'min_alpha': 0.5}},\n",
    "                   size_node_by = {'TF': {'variable': 'fixed_size', 'fixed_size': 40},\n",
    "                                    'Gene': {'variable': 'fixed_size', 'fixed_size': 20},\n",
    "                                    'Region': {'variable': 'fixed_size', 'fixed_size': 10}},\n",
    "                   shape_node_by = {'TF': {'variable': 'fixed_shape', 'fixed_shape': 'ellipse'},\n",
    "                                    'Gene': {'variable': 'fixed_shape', 'fixed_shape': 'ellipse'},\n",
    "                                    'Region': {'variable': 'fixed_shape', 'fixed_shape': 'diamond'}},\n",
    "                   label_size_by = {'TF': {'variable': 'fixed_label_size', 'fixed_label_size': 40.0},\n",
    "                                    'Gene': {'variable': 'fixed_label_size', 'fixed_label_size': 20.0},\n",
    "                                    'Region': {'variable': 'fixed_label_size', 'fixed_label_size': 0.0}},\n",
    "                   layout='kamada_kawai_layout',\n",
    "                   scale_position_by=250)"
   ]
  },
  {
   "cell_type": "markdown",
   "metadata": {},
   "source": [
    "Finally we can visualize the network.\n",
    "\n",
    "In this network diamond shapes represent regions and they are color coded by their log2fc value in B cells target genes and TFs are visualized using circles and are labeled."
   ]
  },
  {
   "cell_type": "code",
   "execution_count": null,
   "metadata": {
    "scrolled": true
   },
   "outputs": [],
   "source": [
    "%matplotlib inline\n",
    "plt.figure(figsize=(30, 30))\n",
    "plot_networkx(G, pos)"
   ]
  },
  {
   "cell_type": "code",
   "execution_count": null,
   "metadata": {},
   "outputs": [],
   "source": [
    "##Plt colourbar to add to cytoscape\n",
    "import pylab as pl\n",
    "import numpy as np\n",
    "\n",
    "a = np.array([[-1.5,1.5]])\n",
    "pl.figure(figsize=(5.5, 0.8))\n",
    "img = pl.imshow(a, cmap=\"bwr\")\n",
    "pl.gca().set_visible(False)\n",
    "cax = pl.axes([0.1, 0.2, 0.8, 0.6])\n",
    "\n",
    "cb = pl.colorbar(orientation=\"horizontal\", cax=cax)\n",
    "cb = cb.set_label(label='log2FoldChange in Engram Cells',size=15,weight='bold')\n",
    "pl.savefig(os.path.join(work_dir, \"outs/colorbar.png\"), bbox_inches=\"tight\")"
   ]
  },
  {
   "cell_type": "markdown",
   "metadata": {},
   "source": [
    "Export to cytoscape to make this plot even nicer"
   ]
  },
  {
   "cell_type": "markdown",
   "metadata": {},
   "source": [
    "This network can be imported using `file -> import -> Network from file ...`\n",
    "\n",
    "Also make sure to import the SCENIC+ network layout using `file -> import -> Styles from file ...`.\n",
    "\n",
    "This layout is available under [cytoscape_styles/SCENIC+.xml](https://raw.githubusercontent.com/aertslab/scenicplus/main/cytoscape_styles/SCENIC%2B.xml)."
   ]
  },
  {
   "cell_type": "code",
   "execution_count": null,
   "metadata": {},
   "outputs": [],
   "source": [
    "export_to_cytoscape(G, pos, out_file = os.path.join(work_dir, 'outs/network_AP1.cyjs'))"
   ]
  },
  {
   "cell_type": "markdown",
   "metadata": {},
   "source": [
    "## Save output"
   ]
  },
  {
   "cell_type": "code",
   "execution_count": null,
   "metadata": {},
   "outputs": [],
   "source": [
    "###Export Eregulons\n",
    "scplus_obj.uns['eRegulon_metadata'].to_csv(os.path.join(work_dir, 'Eregulons.csv'))\n",
    "pd.DataFrame(scplus_obj.uns['eRegulon_AUC']['Region_based'], columns=[\"eRegulon\"]).to_csv(os.path.join(work_dir, 'SelectedEregulons.csv'))\n",
    "pd.DataFrame(scplus_obj.uns['eRegulon_AUC']['Gene_based'], columns=[\"eRegulon\"]).to_csv(os.path.join(work_dir, 'SelectedGeneEregulons.csv'))\n",
    "\n",
    "###Export Gene-RegionLinks\n",
    "scplus_obj.uns['region_to_gene'].to_csv(os.path.join(work_dir, 'outs/Gene-RegionLinks.csv'))\n",
    "\n",
    "###Export List of Genes in Analysis\n",
    "scplus_obj.metadata_genes.to_csv(os.path.join(work_dir, 'outs/GeneList.csv'))"
   ]
  },
  {
   "cell_type": "code",
   "execution_count": null,
   "metadata": {},
   "outputs": [],
   "source": [
    "###----Export AUC Matrices\n",
    "scplus_obj.uns['eRegulon_AUC'][\"Gene_based\"].to_csv(os.path.join(work_dir, 'outs/Gene-Based_AUC.csv'))\n",
    "scplus_obj.uns['eRegulon_AUC'][\"Region_based\"].to_csv(os.path.join(work_dir, 'outs/Region-based_AUC.csv'))"
   ]
  },
  {
   "cell_type": "code",
   "execution_count": null,
   "metadata": {},
   "outputs": [],
   "source": [
    "###Save scplus object\n",
    "dill.dump(scplus_obj, open(os.path.join(work_dir, 'outs/scplus_obj.pkl'), 'wb'), protocol=-1)"
   ]
  }
 ],
 "metadata": {
  "kernelspec": {
   "display_name": "Python 3 (ipykernel)",
   "language": "python",
   "name": "python3"
  },
  "language_info": {
   "codemirror_mode": {
    "name": "ipython",
    "version": 3
   },
   "file_extension": ".py",
   "mimetype": "text/x-python",
   "name": "python",
   "nbconvert_exporter": "python",
   "pygments_lexer": "ipython3",
   "version": "3.11.8"
  },
  "vscode": {
   "interpreter": {
    "hash": "eb4bb617a32919d4a1b52f44f72e24e3739c7442a4f58a7bc491ec635ac76433"
   }
  }
 },
 "nbformat": 4,
 "nbformat_minor": 4
}
